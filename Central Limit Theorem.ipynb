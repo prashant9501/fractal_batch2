{
 "cells": [
  {
   "cell_type": "code",
   "execution_count": 31,
   "metadata": {},
   "outputs": [
    {
     "data": {
      "text/html": [
       "<div>\n",
       "<style scoped>\n",
       "    .dataframe tbody tr th:only-of-type {\n",
       "        vertical-align: middle;\n",
       "    }\n",
       "\n",
       "    .dataframe tbody tr th {\n",
       "        vertical-align: top;\n",
       "    }\n",
       "\n",
       "    .dataframe thead th {\n",
       "        text-align: right;\n",
       "    }\n",
       "</style>\n",
       "<table border=\"1\" class=\"dataframe\">\n",
       "  <thead>\n",
       "    <tr style=\"text-align: right;\">\n",
       "      <th></th>\n",
       "      <th>vintage</th>\n",
       "      <th>age</th>\n",
       "      <th>gender</th>\n",
       "      <th>dependents</th>\n",
       "      <th>occupation</th>\n",
       "      <th>city</th>\n",
       "      <th>customer_nw_category</th>\n",
       "      <th>branch_code</th>\n",
       "      <th>current_balance</th>\n",
       "      <th>previous_month_end_balance</th>\n",
       "      <th>average_monthly_balance_prevQ</th>\n",
       "      <th>average_monthly_balance_prevQ2</th>\n",
       "      <th>current_month_credit</th>\n",
       "      <th>previous_month_credit</th>\n",
       "      <th>current_month_debit</th>\n",
       "      <th>previous_month_debit</th>\n",
       "      <th>current_month_balance</th>\n",
       "      <th>previous_month_balance</th>\n",
       "      <th>churn</th>\n",
       "    </tr>\n",
       "  </thead>\n",
       "  <tbody>\n",
       "    <tr>\n",
       "      <th>0</th>\n",
       "      <td>2401</td>\n",
       "      <td>66</td>\n",
       "      <td>Male</td>\n",
       "      <td>0</td>\n",
       "      <td>self_employed</td>\n",
       "      <td>187</td>\n",
       "      <td>2</td>\n",
       "      <td>755</td>\n",
       "      <td>1458.71</td>\n",
       "      <td>1458.71</td>\n",
       "      <td>1458.71</td>\n",
       "      <td>1449.07</td>\n",
       "      <td>0.20</td>\n",
       "      <td>0.20</td>\n",
       "      <td>0.20</td>\n",
       "      <td>0.20</td>\n",
       "      <td>1458.71</td>\n",
       "      <td>1458.71</td>\n",
       "      <td>0.0</td>\n",
       "    </tr>\n",
       "    <tr>\n",
       "      <th>1</th>\n",
       "      <td>2648</td>\n",
       "      <td>35</td>\n",
       "      <td>Male</td>\n",
       "      <td>0</td>\n",
       "      <td>self_employed</td>\n",
       "      <td>100000</td>\n",
       "      <td>2</td>\n",
       "      <td>3214</td>\n",
       "      <td>5390.37</td>\n",
       "      <td>8704.66</td>\n",
       "      <td>7799.26</td>\n",
       "      <td>12419.41</td>\n",
       "      <td>0.56</td>\n",
       "      <td>0.56</td>\n",
       "      <td>5486.27</td>\n",
       "      <td>100.56</td>\n",
       "      <td>6496.78</td>\n",
       "      <td>8787.61</td>\n",
       "      <td>0.0</td>\n",
       "    </tr>\n",
       "    <tr>\n",
       "      <th>2</th>\n",
       "      <td>2494</td>\n",
       "      <td>31</td>\n",
       "      <td>Male</td>\n",
       "      <td>0</td>\n",
       "      <td>salaried</td>\n",
       "      <td>146</td>\n",
       "      <td>2</td>\n",
       "      <td>41</td>\n",
       "      <td>3913.16</td>\n",
       "      <td>5815.29</td>\n",
       "      <td>4910.17</td>\n",
       "      <td>2815.94</td>\n",
       "      <td>0.61</td>\n",
       "      <td>0.61</td>\n",
       "      <td>6046.73</td>\n",
       "      <td>259.23</td>\n",
       "      <td>5006.28</td>\n",
       "      <td>5070.14</td>\n",
       "      <td>0.0</td>\n",
       "    </tr>\n",
       "    <tr>\n",
       "      <th>3</th>\n",
       "      <td>2629</td>\n",
       "      <td>90</td>\n",
       "      <td>Male</td>\n",
       "      <td>1</td>\n",
       "      <td>self_employed</td>\n",
       "      <td>1020</td>\n",
       "      <td>2</td>\n",
       "      <td>582</td>\n",
       "      <td>2291.91</td>\n",
       "      <td>2291.91</td>\n",
       "      <td>2084.54</td>\n",
       "      <td>1006.54</td>\n",
       "      <td>0.47</td>\n",
       "      <td>0.47</td>\n",
       "      <td>0.47</td>\n",
       "      <td>2143.33</td>\n",
       "      <td>2291.91</td>\n",
       "      <td>1669.79</td>\n",
       "      <td>1.0</td>\n",
       "    </tr>\n",
       "    <tr>\n",
       "      <th>4</th>\n",
       "      <td>1879</td>\n",
       "      <td>42</td>\n",
       "      <td>Male</td>\n",
       "      <td>2</td>\n",
       "      <td>self_employed</td>\n",
       "      <td>1494</td>\n",
       "      <td>3</td>\n",
       "      <td>388</td>\n",
       "      <td>927.72</td>\n",
       "      <td>1401.72</td>\n",
       "      <td>1643.31</td>\n",
       "      <td>1871.12</td>\n",
       "      <td>0.33</td>\n",
       "      <td>714.61</td>\n",
       "      <td>588.62</td>\n",
       "      <td>1538.06</td>\n",
       "      <td>1157.15</td>\n",
       "      <td>1677.16</td>\n",
       "      <td>1.0</td>\n",
       "    </tr>\n",
       "  </tbody>\n",
       "</table>\n",
       "</div>"
      ],
      "text/plain": [
       "   vintage  age gender  dependents     occupation    city  \\\n",
       "0     2401   66   Male           0  self_employed     187   \n",
       "1     2648   35   Male           0  self_employed  100000   \n",
       "2     2494   31   Male           0       salaried     146   \n",
       "3     2629   90   Male           1  self_employed    1020   \n",
       "4     1879   42   Male           2  self_employed    1494   \n",
       "\n",
       "  customer_nw_category branch_code  current_balance  \\\n",
       "0                    2         755          1458.71   \n",
       "1                    2        3214          5390.37   \n",
       "2                    2          41          3913.16   \n",
       "3                    2         582          2291.91   \n",
       "4                    3         388           927.72   \n",
       "\n",
       "   previous_month_end_balance  average_monthly_balance_prevQ  \\\n",
       "0                     1458.71                        1458.71   \n",
       "1                     8704.66                        7799.26   \n",
       "2                     5815.29                        4910.17   \n",
       "3                     2291.91                        2084.54   \n",
       "4                     1401.72                        1643.31   \n",
       "\n",
       "   average_monthly_balance_prevQ2  current_month_credit  \\\n",
       "0                         1449.07                  0.20   \n",
       "1                        12419.41                  0.56   \n",
       "2                         2815.94                  0.61   \n",
       "3                         1006.54                  0.47   \n",
       "4                         1871.12                  0.33   \n",
       "\n",
       "   previous_month_credit  current_month_debit  previous_month_debit  \\\n",
       "0                   0.20                 0.20                  0.20   \n",
       "1                   0.56              5486.27                100.56   \n",
       "2                   0.61              6046.73                259.23   \n",
       "3                   0.47                 0.47               2143.33   \n",
       "4                 714.61               588.62               1538.06   \n",
       "\n",
       "   current_month_balance  previous_month_balance churn  \n",
       "0                1458.71                 1458.71   0.0  \n",
       "1                6496.78                 8787.61   0.0  \n",
       "2                5006.28                 5070.14   0.0  \n",
       "3                2291.91                 1669.79   1.0  \n",
       "4                1157.15                 1677.16   1.0  "
      ]
     },
     "execution_count": 31,
     "metadata": {},
     "output_type": "execute_result"
    }
   ],
   "source": [
    "import pandas as pd\n",
    "df = pd.read_pickle(\"churn_prediction_v3.pkl\")\n",
    "df.head()"
   ]
  },
  {
   "cell_type": "code",
   "execution_count": 32,
   "metadata": {},
   "outputs": [
    {
     "data": {
      "text/plain": [
       "Index(['vintage', 'age', 'gender', 'dependents', 'occupation', 'city',\n",
       "       'customer_nw_category', 'branch_code', 'current_balance',\n",
       "       'previous_month_end_balance', 'average_monthly_balance_prevQ',\n",
       "       'average_monthly_balance_prevQ2', 'current_month_credit',\n",
       "       'previous_month_credit', 'current_month_debit', 'previous_month_debit',\n",
       "       'current_month_balance', 'previous_month_balance', 'churn'],\n",
       "      dtype='object')"
      ]
     },
     "execution_count": 32,
     "metadata": {},
     "output_type": "execute_result"
    }
   ],
   "source": [
    "df.columns"
   ]
  },
  {
   "cell_type": "code",
   "execution_count": 33,
   "metadata": {},
   "outputs": [
    {
     "name": "stdout",
     "output_type": "stream",
     "text": [
      "<class 'pandas.core.frame.DataFrame'>\n",
      "RangeIndex: 15929 entries, 0 to 15928\n",
      "Data columns (total 19 columns):\n",
      " #   Column                          Non-Null Count  Dtype   \n",
      "---  ------                          --------------  -----   \n",
      " 0   vintage                         15929 non-null  int64   \n",
      " 1   age                             15929 non-null  int64   \n",
      " 2   gender                          15929 non-null  category\n",
      " 3   dependents                      15929 non-null  int64   \n",
      " 4   occupation                      15929 non-null  category\n",
      " 5   city                            15929 non-null  category\n",
      " 6   customer_nw_category            15929 non-null  category\n",
      " 7   branch_code                     15929 non-null  category\n",
      " 8   current_balance                 15929 non-null  float64 \n",
      " 9   previous_month_end_balance      15929 non-null  float64 \n",
      " 10  average_monthly_balance_prevQ   15929 non-null  float64 \n",
      " 11  average_monthly_balance_prevQ2  15929 non-null  float64 \n",
      " 12  current_month_credit            15929 non-null  float64 \n",
      " 13  previous_month_credit           15929 non-null  float64 \n",
      " 14  current_month_debit             15929 non-null  float64 \n",
      " 15  previous_month_debit            15929 non-null  float64 \n",
      " 16  current_month_balance           15929 non-null  float64 \n",
      " 17  previous_month_balance          15929 non-null  float64 \n",
      " 18  churn                           15929 non-null  category\n",
      "dtypes: category(6), float64(10), int64(3)\n",
      "memory usage: 1.7 MB\n"
     ]
    }
   ],
   "source": [
    "df.info()"
   ]
  },
  {
   "cell_type": "code",
   "execution_count": null,
   "metadata": {},
   "outputs": [],
   "source": []
  },
  {
   "cell_type": "markdown",
   "metadata": {},
   "source": [
    "# Central Limit Theorem"
   ]
  },
  {
   "cell_type": "markdown",
   "metadata": {},
   "source": [
    "### Central Limit Theorem in the banking domain:\n",
    "\n",
    "### ATM Withdrawals:\n",
    "Suppose you are analyzing the daily ATM withdrawals made by bank customers. The withdrawals are independent and identically distributed (i.i.d) random variables. By applying the Central Limit Theorem, you can approximate the distribution of the total daily withdrawals as a normal distribution, regardless of the underlying distribution of individual withdrawals. This approximation allows you to make statistical inferences about the total withdrawals, such as estimating the average withdrawal amount or calculating confidence intervals.\n",
    "\n",
    "### Loan Approval Time:\n",
    "Consider the loan approval time for a bank, which represents the time taken to process and approve loan applications. The loan approval time may vary for each application and could follow a different distribution. By collecting a sufficiently large sample of loan approval times, you can apply the Central Limit Theorem to approximate the distribution of the sample mean. This approximation enables you to make inferences about the population mean loan approval time and estimate quantities such as confidence intervals or probabilities of loan approvals within certain timeframes."
   ]
  },
  {
   "cell_type": "code",
   "execution_count": 117,
   "metadata": {},
   "outputs": [],
   "source": [
    "# Assumptions for CLT\n",
    "# 1. The sampels are Independent & Identically Distributed (IID) samples\n",
    "#       (also sampling with replacement will ensure the samples are independent)\n",
    "# 2. The sample distributions are similar to the population distribution\n",
    "# 3. The sample size is large enough (n>30)\n",
    "\n",
    "# then the CLT for the sample means implies that:\n",
    "# 1. The distributions of the sample means (Sampling Distribution) WILL ALWAYS be \n",
    "#     a NORMAL/Gaussian distribution, IRRESPECTIVe of the original population distrib.\n",
    "\n",
    "# 2. The mean of the smaple means (i.e the mean of the Sampling Distribution) is \n",
    "#      approx equal to the population mean\n",
    "\n",
    "# 3. The stand dev of the Sampling Distribution is equal to popln_std_dev/sqrt(n), n being the sample size.\n",
    "#     popln_std_dev/sqrt(n) >>> also called as the Standard Error (SE) in the estimation\n",
    "#     of the population mean from the sample means.\n",
    "\n"
   ]
  },
  {
   "cell_type": "code",
   "execution_count": 127,
   "metadata": {},
   "outputs": [
    {
     "data": {
      "text/plain": [
       "<Axes: ylabel='Density'>"
      ]
     },
     "execution_count": 127,
     "metadata": {},
     "output_type": "execute_result"
    },
    {
     "data": {
      "image/png": "[encoded data removed]",
      "text/plain": [
       "<Figure size 640x480 with 1 Axes>"
      ]
     },
     "metadata": {},
     "output_type": "display_data"
    }
   ],
   "source": [
    "# Use the df['age'] to validate the CLT\n",
    "# Draw 100 samples, each of 200 sample size (n = 200)\n",
    "\n",
    "sample_means = []\n",
    "for i in range(100):  # draw one sample in each iteration.... 100 iterations gives 100 samples\n",
    "    sample = df['age'].sample(200)  # each sample has 200 age values\n",
    "    sample_means.append(sample.mean())\n",
    "    sample.plot.kde()  # plotting the sample distributions\n",
    "    \n",
    "# len(sample_means)\n",
    "df['age'].plot.kde(lw=3, color='k')   # population distribution"
   ]
  },
  {
   "cell_type": "code",
   "execution_count": 129,
   "metadata": {},
   "outputs": [
    {
     "data": {
      "text/plain": [
       "48.24639999999999"
      ]
     },
     "execution_count": 129,
     "metadata": {},
     "output_type": "execute_result"
    }
   ],
   "source": [
    "sample_means = np.array(sample_means)\n",
    "sample_means.mean()  # mean of the sample means"
   ]
  },
  {
   "cell_type": "code",
   "execution_count": 131,
   "metadata": {},
   "outputs": [
    {
     "data": {
      "text/plain": [
       "48.17320610207797"
      ]
     },
     "execution_count": 131,
     "metadata": {},
     "output_type": "execute_result"
    }
   ],
   "source": [
    " # this is the ACTUAL population mean"
   ]
  },
  {
   "cell_type": "code",
   "execution_count": 143,
   "metadata": {},
   "outputs": [
    {
     "data": {
      "text/plain": [
       "<matplotlib.legend.Legend at 0x1de2629d3a0>"
      ]
     },
     "execution_count": 143,
     "metadata": {},
     "output_type": "execute_result"
    },
    {
     "data": {
      "image/png": "[encoded data removed]",
      "text/plain": [
       "<Figure size 800x500 with 1 Axes>"
      ]
     },
     "metadata": {},
     "output_type": "display_data"
    }
   ],
   "source": [
    "import seaborn as sns\n",
    "import matplotlib.pyplot as plt\n",
    "\n",
    "SE = df['age'].std()/(np.sqrt(200))\n",
    "x_values = np.linspace(44, 53, 100)\n",
    "pdf_values = norm.pdf(x_values, loc=sample_means.mean(), scale=SE)\n",
    "\n",
    "# Plot the Normal distribution\n",
    "plt.figure(figsize=(8, 5))\n",
    "plt.plot(x_values, pdf_values, 'r-', label='Theoretical Gsussian PDF')\n",
    "plt.axvline(sample_means.mean() , color='r')\n",
    "\n",
    "sns.kdeplot(data=sample_means, label='Actual Sampling Distribution')\n",
    "plt.axvline(df['age'].mean())\n",
    "plt.legend()"
   ]
  },
  {
   "cell_type": "code",
   "execution_count": null,
   "metadata": {},
   "outputs": [],
   "source": []
  },
  {
   "cell_type": "markdown",
   "metadata": {},
   "source": [
    "## Applications of the Central Limit Theorem (CLT):\n",
    "\n",
    "### Hypothesis Testing: \n",
    "The CLT is often utilized in hypothesis testing, where the underlying population distribution may not be known or may not follow a normal distribution. By applying the CLT, we can use the normal distribution as an approximation to calculate critical values, p-values, and confidence intervals, making hypothesis testing more reliable and applicable to a wide range of scenarios.\n",
    "\n",
    "### Estimation: \n",
    "The CLT is crucial for estimating population parameters such as means or proportions, by using the sample mean or sample proportion as an unbiased estimator of the population mean or population proportion, respectively. \n",
    "\n",
    "### Sample Size Determination: \n",
    "The CLT plays a vital role in determining the appropriate sample size for statistical studies. By understanding the properties of the CLT, researchers can estimate the necessary sample size to achieve a desired level of precision and confidence in their statistical analysis.\n",
    "\n",
    "### Quality Control: \n",
    "In industries such as manufacturing, the CLT is employed to monitor and control the quality of products or processes. By collecting samples and measuring various quality characteristics, the CLT allows for the use of control charts and statistical process control methods to identify and address deviations from desired quality levels.\n",
    "\n",
    "### Surveys and Polling: \n",
    "When conducting surveys or opinion polls, the CLT is applied to ensure accurate estimation of population parameters. By following proper sampling techniques and considering the CLT, researchers can determine the required sample size and apply statistical methods to reduce sampling bias and estimate the true population values with reasonable precision.\n",
    "\n",
    "### Regression Analysis: \n",
    "In regression analysis, the CLT is utilized to assess the statistical significance of regression coefficients and to construct confidence intervals around those coefficients. The CLT enables the use of t-tests and hypothesis tests to determine if the estimated coefficients are significantly different from zero."
   ]
  },
  {
   "cell_type": "code",
   "execution_count": null,
   "metadata": {},
   "outputs": [],
   "source": []
  },
  {
   "cell_type": "markdown",
   "metadata": {},
   "source": [
    "## Sample Size Determination: \n",
    "You are a data analyst working for a bank, and you want to determine the appropriate sample size to estimate the proportion of customers who churn with a desired level of precision and confidence. You aim to use the Central Limit Theorem to guide your sample size determination. Let's assume you want to estimate the proportion of churned customers with a margin of error of ±2%, with a 95% confidence level."
   ]
  },
  {
   "cell_type": "code",
   "execution_count": 18,
   "metadata": {},
   "outputs": [
    {
     "data": {
      "text/html": [
       "<div>\n",
       "<style scoped>\n",
       "    .dataframe tbody tr th:only-of-type {\n",
       "        vertical-align: middle;\n",
       "    }\n",
       "\n",
       "    .dataframe tbody tr th {\n",
       "        vertical-align: top;\n",
       "    }\n",
       "\n",
       "    .dataframe thead th {\n",
       "        text-align: right;\n",
       "    }\n",
       "</style>\n",
       "<table border=\"1\" class=\"dataframe\">\n",
       "  <thead>\n",
       "    <tr style=\"text-align: right;\">\n",
       "      <th></th>\n",
       "      <th>vintage</th>\n",
       "      <th>age</th>\n",
       "      <th>gender</th>\n",
       "      <th>dependents</th>\n",
       "      <th>occupation</th>\n",
       "      <th>city</th>\n",
       "      <th>customer_nw_category</th>\n",
       "      <th>branch_code</th>\n",
       "      <th>current_balance</th>\n",
       "      <th>previous_month_end_balance</th>\n",
       "      <th>average_monthly_balance_prevQ</th>\n",
       "      <th>average_monthly_balance_prevQ2</th>\n",
       "      <th>current_month_credit</th>\n",
       "      <th>previous_month_credit</th>\n",
       "      <th>current_month_debit</th>\n",
       "      <th>previous_month_debit</th>\n",
       "      <th>current_month_balance</th>\n",
       "      <th>previous_month_balance</th>\n",
       "      <th>churn</th>\n",
       "    </tr>\n",
       "  </thead>\n",
       "  <tbody>\n",
       "    <tr>\n",
       "      <th>0</th>\n",
       "      <td>2401</td>\n",
       "      <td>66</td>\n",
       "      <td>Male</td>\n",
       "      <td>0</td>\n",
       "      <td>self_employed</td>\n",
       "      <td>187</td>\n",
       "      <td>2</td>\n",
       "      <td>755</td>\n",
       "      <td>1458.71</td>\n",
       "      <td>1458.71</td>\n",
       "      <td>1458.71</td>\n",
       "      <td>1449.07</td>\n",
       "      <td>0.20</td>\n",
       "      <td>0.20</td>\n",
       "      <td>0.20</td>\n",
       "      <td>0.20</td>\n",
       "      <td>1458.71</td>\n",
       "      <td>1458.71</td>\n",
       "      <td>0.0</td>\n",
       "    </tr>\n",
       "    <tr>\n",
       "      <th>1</th>\n",
       "      <td>2648</td>\n",
       "      <td>35</td>\n",
       "      <td>Male</td>\n",
       "      <td>0</td>\n",
       "      <td>self_employed</td>\n",
       "      <td>100000</td>\n",
       "      <td>2</td>\n",
       "      <td>3214</td>\n",
       "      <td>5390.37</td>\n",
       "      <td>8704.66</td>\n",
       "      <td>7799.26</td>\n",
       "      <td>12419.41</td>\n",
       "      <td>0.56</td>\n",
       "      <td>0.56</td>\n",
       "      <td>5486.27</td>\n",
       "      <td>100.56</td>\n",
       "      <td>6496.78</td>\n",
       "      <td>8787.61</td>\n",
       "      <td>0.0</td>\n",
       "    </tr>\n",
       "    <tr>\n",
       "      <th>2</th>\n",
       "      <td>2494</td>\n",
       "      <td>31</td>\n",
       "      <td>Male</td>\n",
       "      <td>0</td>\n",
       "      <td>salaried</td>\n",
       "      <td>146</td>\n",
       "      <td>2</td>\n",
       "      <td>41</td>\n",
       "      <td>3913.16</td>\n",
       "      <td>5815.29</td>\n",
       "      <td>4910.17</td>\n",
       "      <td>2815.94</td>\n",
       "      <td>0.61</td>\n",
       "      <td>0.61</td>\n",
       "      <td>6046.73</td>\n",
       "      <td>259.23</td>\n",
       "      <td>5006.28</td>\n",
       "      <td>5070.14</td>\n",
       "      <td>0.0</td>\n",
       "    </tr>\n",
       "    <tr>\n",
       "      <th>3</th>\n",
       "      <td>2629</td>\n",
       "      <td>90</td>\n",
       "      <td>Male</td>\n",
       "      <td>1</td>\n",
       "      <td>self_employed</td>\n",
       "      <td>1020</td>\n",
       "      <td>2</td>\n",
       "      <td>582</td>\n",
       "      <td>2291.91</td>\n",
       "      <td>2291.91</td>\n",
       "      <td>2084.54</td>\n",
       "      <td>1006.54</td>\n",
       "      <td>0.47</td>\n",
       "      <td>0.47</td>\n",
       "      <td>0.47</td>\n",
       "      <td>2143.33</td>\n",
       "      <td>2291.91</td>\n",
       "      <td>1669.79</td>\n",
       "      <td>1.0</td>\n",
       "    </tr>\n",
       "    <tr>\n",
       "      <th>4</th>\n",
       "      <td>1879</td>\n",
       "      <td>42</td>\n",
       "      <td>Male</td>\n",
       "      <td>2</td>\n",
       "      <td>self_employed</td>\n",
       "      <td>1494</td>\n",
       "      <td>3</td>\n",
       "      <td>388</td>\n",
       "      <td>927.72</td>\n",
       "      <td>1401.72</td>\n",
       "      <td>1643.31</td>\n",
       "      <td>1871.12</td>\n",
       "      <td>0.33</td>\n",
       "      <td>714.61</td>\n",
       "      <td>588.62</td>\n",
       "      <td>1538.06</td>\n",
       "      <td>1157.15</td>\n",
       "      <td>1677.16</td>\n",
       "      <td>1.0</td>\n",
       "    </tr>\n",
       "  </tbody>\n",
       "</table>\n",
       "</div>"
      ],
      "text/plain": [
       "   vintage  age gender  dependents     occupation    city  \\\n",
       "0     2401   66   Male           0  self_employed     187   \n",
       "1     2648   35   Male           0  self_employed  100000   \n",
       "2     2494   31   Male           0       salaried     146   \n",
       "3     2629   90   Male           1  self_employed    1020   \n",
       "4     1879   42   Male           2  self_employed    1494   \n",
       "\n",
       "  customer_nw_category branch_code  current_balance  \\\n",
       "0                    2         755          1458.71   \n",
       "1                    2        3214          5390.37   \n",
       "2                    2          41          3913.16   \n",
       "3                    2         582          2291.91   \n",
       "4                    3         388           927.72   \n",
       "\n",
       "   previous_month_end_balance  average_monthly_balance_prevQ  \\\n",
       "0                     1458.71                        1458.71   \n",
       "1                     8704.66                        7799.26   \n",
       "2                     5815.29                        4910.17   \n",
       "3                     2291.91                        2084.54   \n",
       "4                     1401.72                        1643.31   \n",
       "\n",
       "   average_monthly_balance_prevQ2  current_month_credit  \\\n",
       "0                         1449.07                  0.20   \n",
       "1                        12419.41                  0.56   \n",
       "2                         2815.94                  0.61   \n",
       "3                         1006.54                  0.47   \n",
       "4                         1871.12                  0.33   \n",
       "\n",
       "   previous_month_credit  current_month_debit  previous_month_debit  \\\n",
       "0                   0.20                 0.20                  0.20   \n",
       "1                   0.56              5486.27                100.56   \n",
       "2                   0.61              6046.73                259.23   \n",
       "3                   0.47                 0.47               2143.33   \n",
       "4                 714.61               588.62               1538.06   \n",
       "\n",
       "   current_month_balance  previous_month_balance churn  \n",
       "0                1458.71                 1458.71   0.0  \n",
       "1                6496.78                 8787.61   0.0  \n",
       "2                5006.28                 5070.14   0.0  \n",
       "3                2291.91                 1669.79   1.0  \n",
       "4                1157.15                 1677.16   1.0  "
      ]
     },
     "execution_count": 18,
     "metadata": {},
     "output_type": "execute_result"
    }
   ],
   "source": [
    "df.head()"
   ]
  },
  {
   "cell_type": "code",
   "execution_count": 24,
   "metadata": {},
   "outputs": [],
   "source": [
    "import pandas as pd\n",
    "import numpy as np\n",
    "from scipy.stats import norm\n",
    "\n",
    "# Estimate the population proportion of churned customers\n",
    "p = df['churn'].astype('int64').mean()\n",
    "\n",
    "# Set the desired level of precision and confidence\n",
    "precision = 0.02\n",
    "confidence_level = 0.95"
   ]
  },
  {
   "cell_type": "code",
   "execution_count": 25,
   "metadata": {},
   "outputs": [
    {
     "data": {
      "text/plain": [
       "1.959963984540054"
      ]
     },
     "execution_count": 25,
     "metadata": {},
     "output_type": "execute_result"
    }
   ],
   "source": [
    "# Calculate the critical value corresponding to the desired confidence level\n",
    "z = norm.ppf((1 + confidence_level) / 2)\n",
    "z"
   ]
  },
  {
   "cell_type": "code",
   "execution_count": 26,
   "metadata": {},
   "outputs": [
    {
     "name": "stdout",
     "output_type": "stream",
     "text": [
      "The required sample size to estimate the proportion of churned customers is: 1464\n"
     ]
    }
   ],
   "source": [
    "# Calculate the necessary sample size\n",
    "sample_size = (z**2 * p * (1 - p)) / precision**2\n",
    "\n",
    "# Round up to the nearest integer\n",
    "sample_size = np.ceil(sample_size)\n",
    "\n",
    "print(f\"The required sample size to estimate the proportion of churned customers is: {int(sample_size)}\")"
   ]
  },
  {
   "cell_type": "markdown",
   "metadata": {},
   "source": [
    "By following this approach, you can determine an appropriate sample size that allows you to estimate the proportion of churned customers with a desired level of precision and confidence, leveraging the properties of the Central Limit Theorem."
   ]
  },
  {
   "cell_type": "code",
   "execution_count": null,
   "metadata": {},
   "outputs": [],
   "source": []
  },
  {
   "cell_type": "markdown",
   "metadata": {},
   "source": [
    "### Example 2: \n",
    "Now you want to estimate the average age of churned customers with a margin of error of ±2 years, and you want a 95% confidence level. Use the Central Limit Theorem to determine the required sample size for your study.\n",
    "\n",
    "n = (Z^2 * σ^2) / E^2\n",
    "\n",
    "where n is the required sample size, Z is the critical value corresponding to the desired confidence level (e.g., for a 95% confidence level, Z = 1.96), σ is the estimated population standard deviation (if available), and E is the desired margin of error."
   ]
  },
  {
   "cell_type": "code",
   "execution_count": 28,
   "metadata": {},
   "outputs": [],
   "source": [
    "# Subset the dataset for churned customers\n",
    "churned_df = df[df['churn'] == 1]\n",
    "\n",
    "# Estimate the population mean of age for churned customers\n",
    "population_mean = churned_df['age'].mean()"
   ]
  },
  {
   "cell_type": "code",
   "execution_count": 29,
   "metadata": {},
   "outputs": [
    {
     "data": {
      "text/plain": [
       "1.959963984540054"
      ]
     },
     "execution_count": 29,
     "metadata": {},
     "output_type": "execute_result"
    }
   ],
   "source": [
    "# Set the desired level of precision and confidence\n",
    "precision = 2\n",
    "confidence_level = 0.95\n",
    "\n",
    "# Calculate the critical value corresponding to the desired confidence level\n",
    "z = norm.ppf((1 + confidence_level) / 2)\n",
    "z"
   ]
  },
  {
   "cell_type": "code",
   "execution_count": 30,
   "metadata": {},
   "outputs": [
    {
     "name": "stdout",
     "output_type": "stream",
     "text": [
      "The required sample size to estimate the average age of churned customers is: 283\n"
     ]
    }
   ],
   "source": [
    "# Estimate the population standard deviation (σ) if available\n",
    "population_std = churned_df['age'].std()\n",
    "\n",
    "# Calculate the necessary sample size\n",
    "sample_size = (z**2 * (population_std**2)) / precision**2\n",
    "\n",
    "# Round up to the nearest integer\n",
    "sample_size = np.ceil(sample_size)\n",
    "\n",
    "print(f\"The required sample size to estimate the average age of churned customers is: {int(sample_size)}\")"
   ]
  },
  {
   "cell_type": "code",
   "execution_count": null,
   "metadata": {},
   "outputs": [],
   "source": []
  }
 ],
 "metadata": {
  "colab": {
   "collapsed_sections": [],
   "name": "3. Variable Identification.ipynb",
   "version": ""
  },
  "kernelspec": {
   "display_name": "Python 3 (ipykernel)",
   "language": "python",
   "name": "python3"
  },
  "language_info": {
   "codemirror_mode": {
    "name": "ipython",
    "version": 3
   },
   "file_extension": ".py",
   "mimetype": "text/x-python",
   "name": "python",
   "nbconvert_exporter": "python",
   "pygments_lexer": "ipython3",
   "version": "3.10.9"
  }
 },
 "nbformat": 4,
 "nbformat_minor": 1
}
