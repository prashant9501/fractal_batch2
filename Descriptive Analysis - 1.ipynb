{
 "cells": [
  {
   "cell_type": "markdown",
   "metadata": {},
   "source": [
    "# Descriptive Statistics"
   ]
  },
  {
   "cell_type": "code",
   "execution_count": 1,
   "metadata": {},
   "outputs": [
    {
     "data": {
      "text/html": [
       "<div>\n",
       "<style scoped>\n",
       "    .dataframe tbody tr th:only-of-type {\n",
       "        vertical-align: middle;\n",
       "    }\n",
       "\n",
       "    .dataframe tbody tr th {\n",
       "        vertical-align: top;\n",
       "    }\n",
       "\n",
       "    .dataframe thead th {\n",
       "        text-align: right;\n",
       "    }\n",
       "</style>\n",
       "<table border=\"1\" class=\"dataframe\">\n",
       "  <thead>\n",
       "    <tr style=\"text-align: right;\">\n",
       "      <th></th>\n",
       "      <th>vintage</th>\n",
       "      <th>age</th>\n",
       "      <th>gender</th>\n",
       "      <th>dependents</th>\n",
       "      <th>occupation</th>\n",
       "      <th>city</th>\n",
       "      <th>customer_nw_category</th>\n",
       "      <th>branch_code</th>\n",
       "      <th>current_balance</th>\n",
       "      <th>previous_month_end_balance</th>\n",
       "      <th>average_monthly_balance_prevQ</th>\n",
       "      <th>average_monthly_balance_prevQ2</th>\n",
       "      <th>current_month_credit</th>\n",
       "      <th>previous_month_credit</th>\n",
       "      <th>current_month_debit</th>\n",
       "      <th>previous_month_debit</th>\n",
       "      <th>current_month_balance</th>\n",
       "      <th>previous_month_balance</th>\n",
       "      <th>churn</th>\n",
       "    </tr>\n",
       "  </thead>\n",
       "  <tbody>\n",
       "    <tr>\n",
       "      <th>0</th>\n",
       "      <td>2401</td>\n",
       "      <td>66</td>\n",
       "      <td>Male</td>\n",
       "      <td>0</td>\n",
       "      <td>self_employed</td>\n",
       "      <td>187</td>\n",
       "      <td>2</td>\n",
       "      <td>755</td>\n",
       "      <td>1458.71</td>\n",
       "      <td>1458.71</td>\n",
       "      <td>1458.71</td>\n",
       "      <td>1449.07</td>\n",
       "      <td>0.20</td>\n",
       "      <td>0.20</td>\n",
       "      <td>0.20</td>\n",
       "      <td>0.20</td>\n",
       "      <td>1458.71</td>\n",
       "      <td>1458.71</td>\n",
       "      <td>0.0</td>\n",
       "    </tr>\n",
       "    <tr>\n",
       "      <th>1</th>\n",
       "      <td>2648</td>\n",
       "      <td>35</td>\n",
       "      <td>Male</td>\n",
       "      <td>0</td>\n",
       "      <td>self_employed</td>\n",
       "      <td>100000</td>\n",
       "      <td>2</td>\n",
       "      <td>3214</td>\n",
       "      <td>5390.37</td>\n",
       "      <td>8704.66</td>\n",
       "      <td>7799.26</td>\n",
       "      <td>12419.41</td>\n",
       "      <td>0.56</td>\n",
       "      <td>0.56</td>\n",
       "      <td>5486.27</td>\n",
       "      <td>100.56</td>\n",
       "      <td>6496.78</td>\n",
       "      <td>8787.61</td>\n",
       "      <td>0.0</td>\n",
       "    </tr>\n",
       "    <tr>\n",
       "      <th>2</th>\n",
       "      <td>2494</td>\n",
       "      <td>31</td>\n",
       "      <td>Male</td>\n",
       "      <td>0</td>\n",
       "      <td>salaried</td>\n",
       "      <td>146</td>\n",
       "      <td>2</td>\n",
       "      <td>41</td>\n",
       "      <td>3913.16</td>\n",
       "      <td>5815.29</td>\n",
       "      <td>4910.17</td>\n",
       "      <td>2815.94</td>\n",
       "      <td>0.61</td>\n",
       "      <td>0.61</td>\n",
       "      <td>6046.73</td>\n",
       "      <td>259.23</td>\n",
       "      <td>5006.28</td>\n",
       "      <td>5070.14</td>\n",
       "      <td>0.0</td>\n",
       "    </tr>\n",
       "    <tr>\n",
       "      <th>3</th>\n",
       "      <td>2629</td>\n",
       "      <td>90</td>\n",
       "      <td>Male</td>\n",
       "      <td>1</td>\n",
       "      <td>self_employed</td>\n",
       "      <td>1020</td>\n",
       "      <td>2</td>\n",
       "      <td>582</td>\n",
       "      <td>2291.91</td>\n",
       "      <td>2291.91</td>\n",
       "      <td>2084.54</td>\n",
       "      <td>1006.54</td>\n",
       "      <td>0.47</td>\n",
       "      <td>0.47</td>\n",
       "      <td>0.47</td>\n",
       "      <td>2143.33</td>\n",
       "      <td>2291.91</td>\n",
       "      <td>1669.79</td>\n",
       "      <td>1.0</td>\n",
       "    </tr>\n",
       "    <tr>\n",
       "      <th>4</th>\n",
       "      <td>1879</td>\n",
       "      <td>42</td>\n",
       "      <td>Male</td>\n",
       "      <td>2</td>\n",
       "      <td>self_employed</td>\n",
       "      <td>1494</td>\n",
       "      <td>3</td>\n",
       "      <td>388</td>\n",
       "      <td>927.72</td>\n",
       "      <td>1401.72</td>\n",
       "      <td>1643.31</td>\n",
       "      <td>1871.12</td>\n",
       "      <td>0.33</td>\n",
       "      <td>714.61</td>\n",
       "      <td>588.62</td>\n",
       "      <td>1538.06</td>\n",
       "      <td>1157.15</td>\n",
       "      <td>1677.16</td>\n",
       "      <td>1.0</td>\n",
       "    </tr>\n",
       "  </tbody>\n",
       "</table>\n",
       "</div>"
      ],
      "text/plain": [
       "   vintage  age gender  dependents     occupation    city  \\\n",
       "0     2401   66   Male           0  self_employed     187   \n",
       "1     2648   35   Male           0  self_employed  100000   \n",
       "2     2494   31   Male           0       salaried     146   \n",
       "3     2629   90   Male           1  self_employed    1020   \n",
       "4     1879   42   Male           2  self_employed    1494   \n",
       "\n",
       "  customer_nw_category branch_code  current_balance  \\\n",
       "0                    2         755          1458.71   \n",
       "1                    2        3214          5390.37   \n",
       "2                    2          41          3913.16   \n",
       "3                    2         582          2291.91   \n",
       "4                    3         388           927.72   \n",
       "\n",
       "   previous_month_end_balance  average_monthly_balance_prevQ  \\\n",
       "0                     1458.71                        1458.71   \n",
       "1                     8704.66                        7799.26   \n",
       "2                     5815.29                        4910.17   \n",
       "3                     2291.91                        2084.54   \n",
       "4                     1401.72                        1643.31   \n",
       "\n",
       "   average_monthly_balance_prevQ2  current_month_credit  \\\n",
       "0                         1449.07                  0.20   \n",
       "1                        12419.41                  0.56   \n",
       "2                         2815.94                  0.61   \n",
       "3                         1006.54                  0.47   \n",
       "4                         1871.12                  0.33   \n",
       "\n",
       "   previous_month_credit  current_month_debit  previous_month_debit  \\\n",
       "0                   0.20                 0.20                  0.20   \n",
       "1                   0.56              5486.27                100.56   \n",
       "2                   0.61              6046.73                259.23   \n",
       "3                   0.47                 0.47               2143.33   \n",
       "4                 714.61               588.62               1538.06   \n",
       "\n",
       "   current_month_balance  previous_month_balance churn  \n",
       "0                1458.71                 1458.71   0.0  \n",
       "1                6496.78                 8787.61   0.0  \n",
       "2                5006.28                 5070.14   0.0  \n",
       "3                2291.91                 1669.79   1.0  \n",
       "4                1157.15                 1677.16   1.0  "
      ]
     },
     "execution_count": 1,
     "metadata": {},
     "output_type": "execute_result"
    }
   ],
   "source": [
    "import pandas as pd\n",
    "df = pd.read_pickle(\"churn_prediction_v3.pkl\")\n",
    "df.head()"
   ]
  },
  {
   "cell_type": "code",
   "execution_count": 2,
   "metadata": {},
   "outputs": [
    {
     "name": "stdout",
     "output_type": "stream",
     "text": [
      "<class 'pandas.core.frame.DataFrame'>\n",
      "RangeIndex: 15929 entries, 0 to 15928\n",
      "Data columns (total 19 columns):\n",
      " #   Column                          Non-Null Count  Dtype   \n",
      "---  ------                          --------------  -----   \n",
      " 0   vintage                         15929 non-null  int64   \n",
      " 1   age                             15929 non-null  int64   \n",
      " 2   gender                          15929 non-null  category\n",
      " 3   dependents                      15929 non-null  int64   \n",
      " 4   occupation                      15929 non-null  category\n",
      " 5   city                            15929 non-null  category\n",
      " 6   customer_nw_category            15929 non-null  category\n",
      " 7   branch_code                     15929 non-null  category\n",
      " 8   current_balance                 15929 non-null  float64 \n",
      " 9   previous_month_end_balance      15929 non-null  float64 \n",
      " 10  average_monthly_balance_prevQ   15929 non-null  float64 \n",
      " 11  average_monthly_balance_prevQ2  15929 non-null  float64 \n",
      " 12  current_month_credit            15929 non-null  float64 \n",
      " 13  previous_month_credit           15929 non-null  float64 \n",
      " 14  current_month_debit             15929 non-null  float64 \n",
      " 15  previous_month_debit            15929 non-null  float64 \n",
      " 16  current_month_balance           15929 non-null  float64 \n",
      " 17  previous_month_balance          15929 non-null  float64 \n",
      " 18  churn                           15929 non-null  category\n",
      "dtypes: category(6), float64(10), int64(3)\n",
      "memory usage: 1.7 MB\n"
     ]
    }
   ],
   "source": [
    "df.info()"
   ]
  },
  {
   "cell_type": "code",
   "execution_count": 25,
   "metadata": {},
   "outputs": [
    {
     "data": {
      "text/plain": [
       "15929"
      ]
     },
     "execution_count": 25,
     "metadata": {},
     "output_type": "execute_result"
    }
   ],
   "source": [
    "len(df['age'])"
   ]
  },
  {
   "cell_type": "code",
   "execution_count": 26,
   "metadata": {},
   "outputs": [
    {
     "data": {
      "text/plain": [
       "1593"
      ]
     },
     "execution_count": 26,
     "metadata": {},
     "output_type": "execute_result"
    }
   ],
   "source": [
    "# Find the 10th percentile of the age values ???\n",
    "\n",
    "# Location of the 10th percentile\n",
    "P_10 = 10*(len(df['age']) + 1)/100\n",
    "P_10 = int(P_10)\n",
    "P_10"
   ]
  },
  {
   "cell_type": "code",
   "execution_count": 27,
   "metadata": {},
   "outputs": [],
   "source": [
    "sorted_age = list(df['age'])\n",
    "sorted_age.sort()"
   ]
  },
  {
   "cell_type": "code",
   "execution_count": 28,
   "metadata": {},
   "outputs": [
    {
     "data": {
      "text/plain": [
       "28"
      ]
     },
     "execution_count": 28,
     "metadata": {},
     "output_type": "execute_result"
    }
   ],
   "source": [
    "sorted_age[P_10]"
   ]
  },
  {
   "cell_type": "code",
   "execution_count": 29,
   "metadata": {},
   "outputs": [
    {
     "data": {
      "text/plain": [
       "28.0"
      ]
     },
     "execution_count": 29,
     "metadata": {},
     "output_type": "execute_result"
    }
   ],
   "source": [
    "import numpy as np\n",
    "np.percentile(df['age'], 10)"
   ]
  },
  {
   "cell_type": "code",
   "execution_count": 30,
   "metadata": {},
   "outputs": [
    {
     "data": {
      "text/plain": [
       "796"
      ]
     },
     "execution_count": 30,
     "metadata": {},
     "output_type": "execute_result"
    }
   ],
   "source": [
    "# Location of the 5th percentile\n",
    "P_5 = 5*(len(df['age']) + 1)/100\n",
    "P_5 = int(P_5)\n",
    "P_5"
   ]
  },
  {
   "cell_type": "code",
   "execution_count": 31,
   "metadata": {},
   "outputs": [
    {
     "data": {
      "text/plain": [
       "23"
      ]
     },
     "execution_count": 31,
     "metadata": {},
     "output_type": "execute_result"
    }
   ],
   "source": [
    "sorted_age[P_5]"
   ]
  },
  {
   "cell_type": "code",
   "execution_count": 32,
   "metadata": {},
   "outputs": [
    {
     "data": {
      "text/plain": [
       "23.0"
      ]
     },
     "execution_count": 32,
     "metadata": {},
     "output_type": "execute_result"
    }
   ],
   "source": [
    "np.percentile(df['age'], 5)"
   ]
  },
  {
   "cell_type": "code",
   "execution_count": 33,
   "metadata": {},
   "outputs": [
    {
     "data": {
      "text/plain": [
       "46.0"
      ]
     },
     "execution_count": 33,
     "metadata": {},
     "output_type": "execute_result"
    }
   ],
   "source": [
    "np.percentile(df['age'], 50)"
   ]
  },
  {
   "cell_type": "code",
   "execution_count": 34,
   "metadata": {},
   "outputs": [
    {
     "data": {
      "text/plain": [
       "count    15929.000000\n",
       "mean        48.173206\n",
       "std         17.865539\n",
       "min          1.000000\n",
       "25%         35.000000\n",
       "50%         46.000000\n",
       "75%         60.000000\n",
       "max         90.000000\n",
       "Name: age, dtype: float64"
      ]
     },
     "execution_count": 34,
     "metadata": {},
     "output_type": "execute_result"
    }
   ],
   "source": [
    "df['age'].describe()"
   ]
  },
  {
   "cell_type": "code",
   "execution_count": 35,
   "metadata": {},
   "outputs": [
    {
     "data": {
      "text/plain": [
       "7965"
      ]
     },
     "execution_count": 35,
     "metadata": {},
     "output_type": "execute_result"
    }
   ],
   "source": [
    "5*1593"
   ]
  },
  {
   "cell_type": "code",
   "execution_count": 36,
   "metadata": {},
   "outputs": [
    {
     "data": {
      "text/plain": [
       "46"
      ]
     },
     "execution_count": 36,
     "metadata": {},
     "output_type": "execute_result"
    }
   ],
   "source": [
    "sorted_age[7965]"
   ]
  },
  {
   "cell_type": "code",
   "execution_count": 37,
   "metadata": {},
   "outputs": [
    {
     "data": {
      "text/plain": [
       "(-2.5, 97.5)"
      ]
     },
     "execution_count": 37,
     "metadata": {},
     "output_type": "execute_result"
    }
   ],
   "source": [
    "# for the AGE Col\n",
    "Q1 = np.percentile(df['age'], 25)\n",
    "Q3 = np.percentile(df['age'], 75)\n",
    "IQR = Q3-Q1\n",
    "\n",
    "upper_limit = Q3 + 1.5*IQR\n",
    "lower_limit = Q1 - 1.5*IQR\n",
    "lower_limit, upper_limit"
   ]
  },
  {
   "cell_type": "code",
   "execution_count": 38,
   "metadata": {},
   "outputs": [
    {
     "data": {
      "text/plain": [
       "(1, 90)"
      ]
     },
     "execution_count": 38,
     "metadata": {},
     "output_type": "execute_result"
    }
   ],
   "source": [
    "df['age'].min(), df['age'].max()"
   ]
  },
  {
   "cell_type": "code",
   "execution_count": 39,
   "metadata": {},
   "outputs": [
    {
     "data": {
      "text/plain": [
       "15929"
      ]
     },
     "execution_count": 39,
     "metadata": {},
     "output_type": "execute_result"
    }
   ],
   "source": [
    "# This sum refers to the number on inliers\n",
    "sum((df['age']>lower_limit) & (df['age']<upper_limit))"
   ]
  },
  {
   "cell_type": "code",
   "execution_count": 40,
   "metadata": {},
   "outputs": [
    {
     "data": {
      "text/plain": [
       "0"
      ]
     },
     "execution_count": 40,
     "metadata": {},
     "output_type": "execute_result"
    }
   ],
   "source": [
    "# This sum refers to the number on outliers\n",
    "sum((df['age'] < lower_limit) & (df['age'] > upper_limit))"
   ]
  },
  {
   "cell_type": "code",
   "execution_count": 41,
   "metadata": {},
   "outputs": [
    {
     "data": {
      "text/plain": [
       "['vintage',\n",
       " 'age',\n",
       " 'dependents',\n",
       " 'current_balance',\n",
       " 'previous_month_end_balance',\n",
       " 'average_monthly_balance_prevQ',\n",
       " 'average_monthly_balance_prevQ2',\n",
       " 'current_month_credit',\n",
       " 'previous_month_credit',\n",
       " 'current_month_debit',\n",
       " 'previous_month_debit',\n",
       " 'current_month_balance',\n",
       " 'previous_month_balance']"
      ]
     },
     "execution_count": 41,
     "metadata": {},
     "output_type": "execute_result"
    }
   ],
   "source": [
    "# HW: DO this cal for all the numeric variables, and report the no. of outliers \n",
    "# in each of them\n",
    "\n",
    "numeric_cols = list(df.dtypes[(df.dtypes == 'int64') | (df.dtypes == 'float64')].index)\n",
    "numeric_cols"
   ]
  },
  {
   "cell_type": "code",
   "execution_count": 42,
   "metadata": {},
   "outputs": [
    {
     "data": {
      "text/html": [
       "<div>\n",
       "<style scoped>\n",
       "    .dataframe tbody tr th:only-of-type {\n",
       "        vertical-align: middle;\n",
       "    }\n",
       "\n",
       "    .dataframe tbody tr th {\n",
       "        vertical-align: top;\n",
       "    }\n",
       "\n",
       "    .dataframe thead th {\n",
       "        text-align: right;\n",
       "    }\n",
       "</style>\n",
       "<table border=\"1\" class=\"dataframe\">\n",
       "  <thead>\n",
       "    <tr style=\"text-align: right;\">\n",
       "      <th></th>\n",
       "      <th>vintage</th>\n",
       "      <th>age</th>\n",
       "      <th>dependents</th>\n",
       "      <th>current_balance</th>\n",
       "      <th>previous_month_end_balance</th>\n",
       "      <th>average_monthly_balance_prevQ</th>\n",
       "      <th>average_monthly_balance_prevQ2</th>\n",
       "      <th>current_month_credit</th>\n",
       "      <th>previous_month_credit</th>\n",
       "      <th>current_month_debit</th>\n",
       "      <th>previous_month_debit</th>\n",
       "      <th>current_month_balance</th>\n",
       "      <th>previous_month_balance</th>\n",
       "    </tr>\n",
       "  </thead>\n",
       "  <tbody>\n",
       "    <tr>\n",
       "      <th>0</th>\n",
       "      <td>2401</td>\n",
       "      <td>66</td>\n",
       "      <td>0</td>\n",
       "      <td>1458.71</td>\n",
       "      <td>1458.71</td>\n",
       "      <td>1458.71</td>\n",
       "      <td>1449.07</td>\n",
       "      <td>0.20</td>\n",
       "      <td>0.20</td>\n",
       "      <td>0.20</td>\n",
       "      <td>0.20</td>\n",
       "      <td>1458.71</td>\n",
       "      <td>1458.71</td>\n",
       "    </tr>\n",
       "    <tr>\n",
       "      <th>1</th>\n",
       "      <td>2648</td>\n",
       "      <td>35</td>\n",
       "      <td>0</td>\n",
       "      <td>5390.37</td>\n",
       "      <td>8704.66</td>\n",
       "      <td>7799.26</td>\n",
       "      <td>12419.41</td>\n",
       "      <td>0.56</td>\n",
       "      <td>0.56</td>\n",
       "      <td>5486.27</td>\n",
       "      <td>100.56</td>\n",
       "      <td>6496.78</td>\n",
       "      <td>8787.61</td>\n",
       "    </tr>\n",
       "    <tr>\n",
       "      <th>2</th>\n",
       "      <td>2494</td>\n",
       "      <td>31</td>\n",
       "      <td>0</td>\n",
       "      <td>3913.16</td>\n",
       "      <td>5815.29</td>\n",
       "      <td>4910.17</td>\n",
       "      <td>2815.94</td>\n",
       "      <td>0.61</td>\n",
       "      <td>0.61</td>\n",
       "      <td>6046.73</td>\n",
       "      <td>259.23</td>\n",
       "      <td>5006.28</td>\n",
       "      <td>5070.14</td>\n",
       "    </tr>\n",
       "    <tr>\n",
       "      <th>3</th>\n",
       "      <td>2629</td>\n",
       "      <td>90</td>\n",
       "      <td>1</td>\n",
       "      <td>2291.91</td>\n",
       "      <td>2291.91</td>\n",
       "      <td>2084.54</td>\n",
       "      <td>1006.54</td>\n",
       "      <td>0.47</td>\n",
       "      <td>0.47</td>\n",
       "      <td>0.47</td>\n",
       "      <td>2143.33</td>\n",
       "      <td>2291.91</td>\n",
       "      <td>1669.79</td>\n",
       "    </tr>\n",
       "    <tr>\n",
       "      <th>4</th>\n",
       "      <td>1879</td>\n",
       "      <td>42</td>\n",
       "      <td>2</td>\n",
       "      <td>927.72</td>\n",
       "      <td>1401.72</td>\n",
       "      <td>1643.31</td>\n",
       "      <td>1871.12</td>\n",
       "      <td>0.33</td>\n",
       "      <td>714.61</td>\n",
       "      <td>588.62</td>\n",
       "      <td>1538.06</td>\n",
       "      <td>1157.15</td>\n",
       "      <td>1677.16</td>\n",
       "    </tr>\n",
       "    <tr>\n",
       "      <th>...</th>\n",
       "      <td>...</td>\n",
       "      <td>...</td>\n",
       "      <td>...</td>\n",
       "      <td>...</td>\n",
       "      <td>...</td>\n",
       "      <td>...</td>\n",
       "      <td>...</td>\n",
       "      <td>...</td>\n",
       "      <td>...</td>\n",
       "      <td>...</td>\n",
       "      <td>...</td>\n",
       "      <td>...</td>\n",
       "      <td>...</td>\n",
       "    </tr>\n",
       "    <tr>\n",
       "      <th>15924</th>\n",
       "      <td>2175</td>\n",
       "      <td>40</td>\n",
       "      <td>0</td>\n",
       "      <td>9996.84</td>\n",
       "      <td>10032.93</td>\n",
       "      <td>5883.00</td>\n",
       "      <td>191.49</td>\n",
       "      <td>0.10</td>\n",
       "      <td>9923.99</td>\n",
       "      <td>0.10</td>\n",
       "      <td>0.10</td>\n",
       "      <td>10009.28</td>\n",
       "      <td>7483.44</td>\n",
       "    </tr>\n",
       "    <tr>\n",
       "      <th>15925</th>\n",
       "      <td>2500</td>\n",
       "      <td>64</td>\n",
       "      <td>0</td>\n",
       "      <td>309.64</td>\n",
       "      <td>5458.35</td>\n",
       "      <td>1738.15</td>\n",
       "      <td>300.91</td>\n",
       "      <td>0.04</td>\n",
       "      <td>46961.44</td>\n",
       "      <td>5148.76</td>\n",
       "      <td>41642.90</td>\n",
       "      <td>2733.69</td>\n",
       "      <td>2340.96</td>\n",
       "    </tr>\n",
       "    <tr>\n",
       "      <th>15926</th>\n",
       "      <td>2470</td>\n",
       "      <td>44</td>\n",
       "      <td>0</td>\n",
       "      <td>1049.67</td>\n",
       "      <td>2716.22</td>\n",
       "      <td>3622.00</td>\n",
       "      <td>6016.92</td>\n",
       "      <td>0.06</td>\n",
       "      <td>966.96</td>\n",
       "      <td>1428.63</td>\n",
       "      <td>5714.34</td>\n",
       "      <td>2100.30</td>\n",
       "      <td>1846.93</td>\n",
       "    </tr>\n",
       "    <tr>\n",
       "      <th>15927</th>\n",
       "      <td>2537</td>\n",
       "      <td>34</td>\n",
       "      <td>1</td>\n",
       "      <td>1106.86</td>\n",
       "      <td>992.59</td>\n",
       "      <td>2729.22</td>\n",
       "      <td>2170.80</td>\n",
       "      <td>8732.47</td>\n",
       "      <td>1714.39</td>\n",
       "      <td>8618.20</td>\n",
       "      <td>1142.96</td>\n",
       "      <td>5726.47</td>\n",
       "      <td>605.49</td>\n",
       "    </tr>\n",
       "    <tr>\n",
       "      <th>15928</th>\n",
       "      <td>2287</td>\n",
       "      <td>56</td>\n",
       "      <td>0</td>\n",
       "      <td>2098.29</td>\n",
       "      <td>1879.26</td>\n",
       "      <td>2122.82</td>\n",
       "      <td>2131.59</td>\n",
       "      <td>362.14</td>\n",
       "      <td>0.26</td>\n",
       "      <td>143.11</td>\n",
       "      <td>314.54</td>\n",
       "      <td>2132.49</td>\n",
       "      <td>2083.49</td>\n",
       "    </tr>\n",
       "  </tbody>\n",
       "</table>\n",
       "<p>15929 rows × 13 columns</p>\n",
       "</div>"
      ],
      "text/plain": [
       "       vintage  age  dependents  current_balance  previous_month_end_balance  \\\n",
       "0         2401   66           0          1458.71                     1458.71   \n",
       "1         2648   35           0          5390.37                     8704.66   \n",
       "2         2494   31           0          3913.16                     5815.29   \n",
       "3         2629   90           1          2291.91                     2291.91   \n",
       "4         1879   42           2           927.72                     1401.72   \n",
       "...        ...  ...         ...              ...                         ...   \n",
       "15924     2175   40           0          9996.84                    10032.93   \n",
       "15925     2500   64           0           309.64                     5458.35   \n",
       "15926     2470   44           0          1049.67                     2716.22   \n",
       "15927     2537   34           1          1106.86                      992.59   \n",
       "15928     2287   56           0          2098.29                     1879.26   \n",
       "\n",
       "       average_monthly_balance_prevQ  average_monthly_balance_prevQ2  \\\n",
       "0                            1458.71                         1449.07   \n",
       "1                            7799.26                        12419.41   \n",
       "2                            4910.17                         2815.94   \n",
       "3                            2084.54                         1006.54   \n",
       "4                            1643.31                         1871.12   \n",
       "...                              ...                             ...   \n",
       "15924                        5883.00                          191.49   \n",
       "15925                        1738.15                          300.91   \n",
       "15926                        3622.00                         6016.92   \n",
       "15927                        2729.22                         2170.80   \n",
       "15928                        2122.82                         2131.59   \n",
       "\n",
       "       current_month_credit  previous_month_credit  current_month_debit  \\\n",
       "0                      0.20                   0.20                 0.20   \n",
       "1                      0.56                   0.56              5486.27   \n",
       "2                      0.61                   0.61              6046.73   \n",
       "3                      0.47                   0.47                 0.47   \n",
       "4                      0.33                 714.61               588.62   \n",
       "...                     ...                    ...                  ...   \n",
       "15924                  0.10                9923.99                 0.10   \n",
       "15925                  0.04               46961.44              5148.76   \n",
       "15926                  0.06                 966.96              1428.63   \n",
       "15927               8732.47                1714.39              8618.20   \n",
       "15928                362.14                   0.26               143.11   \n",
       "\n",
       "       previous_month_debit  current_month_balance  previous_month_balance  \n",
       "0                      0.20                1458.71                 1458.71  \n",
       "1                    100.56                6496.78                 8787.61  \n",
       "2                    259.23                5006.28                 5070.14  \n",
       "3                   2143.33                2291.91                 1669.79  \n",
       "4                   1538.06                1157.15                 1677.16  \n",
       "...                     ...                    ...                     ...  \n",
       "15924                  0.10               10009.28                 7483.44  \n",
       "15925              41642.90                2733.69                 2340.96  \n",
       "15926               5714.34                2100.30                 1846.93  \n",
       "15927               1142.96                5726.47                  605.49  \n",
       "15928                314.54                2132.49                 2083.49  \n",
       "\n",
       "[15929 rows x 13 columns]"
      ]
     },
     "execution_count": 42,
     "metadata": {},
     "output_type": "execute_result"
    }
   ],
   "source": [
    "df[numeric_cols]"
   ]
  },
  {
   "cell_type": "code",
   "execution_count": 43,
   "metadata": {},
   "outputs": [
    {
     "data": {
      "text/html": [
       "<div>\n",
       "<style scoped>\n",
       "    .dataframe tbody tr th:only-of-type {\n",
       "        vertical-align: middle;\n",
       "    }\n",
       "\n",
       "    .dataframe tbody tr th {\n",
       "        vertical-align: top;\n",
       "    }\n",
       "\n",
       "    .dataframe thead th {\n",
       "        text-align: right;\n",
       "    }\n",
       "</style>\n",
       "<table border=\"1\" class=\"dataframe\">\n",
       "  <thead>\n",
       "    <tr style=\"text-align: right;\">\n",
       "      <th></th>\n",
       "      <th>vintage</th>\n",
       "      <th>age</th>\n",
       "      <th>dependents</th>\n",
       "      <th>current_balance</th>\n",
       "      <th>previous_month_end_balance</th>\n",
       "      <th>average_monthly_balance_prevQ</th>\n",
       "      <th>average_monthly_balance_prevQ2</th>\n",
       "      <th>current_month_credit</th>\n",
       "      <th>previous_month_credit</th>\n",
       "      <th>current_month_debit</th>\n",
       "      <th>previous_month_debit</th>\n",
       "      <th>current_month_balance</th>\n",
       "      <th>previous_month_balance</th>\n",
       "    </tr>\n",
       "  </thead>\n",
       "  <tbody>\n",
       "    <tr>\n",
       "      <th>vintage</th>\n",
       "      <td>1.00</td>\n",
       "      <td>-0.01</td>\n",
       "      <td>-0.00</td>\n",
       "      <td>-0.00</td>\n",
       "      <td>0.00</td>\n",
       "      <td>-0.00</td>\n",
       "      <td>-0.00</td>\n",
       "      <td>-0.00</td>\n",
       "      <td>-0.00</td>\n",
       "      <td>-0.00</td>\n",
       "      <td>-0.01</td>\n",
       "      <td>-0.00</td>\n",
       "      <td>-0.00</td>\n",
       "    </tr>\n",
       "    <tr>\n",
       "      <th>age</th>\n",
       "      <td>-0.01</td>\n",
       "      <td>1.00</td>\n",
       "      <td>0.01</td>\n",
       "      <td>0.05</td>\n",
       "      <td>0.05</td>\n",
       "      <td>0.05</td>\n",
       "      <td>0.05</td>\n",
       "      <td>0.04</td>\n",
       "      <td>0.03</td>\n",
       "      <td>0.04</td>\n",
       "      <td>0.03</td>\n",
       "      <td>0.05</td>\n",
       "      <td>0.05</td>\n",
       "    </tr>\n",
       "    <tr>\n",
       "      <th>dependents</th>\n",
       "      <td>-0.00</td>\n",
       "      <td>0.01</td>\n",
       "      <td>1.00</td>\n",
       "      <td>0.00</td>\n",
       "      <td>0.01</td>\n",
       "      <td>0.01</td>\n",
       "      <td>0.01</td>\n",
       "      <td>0.02</td>\n",
       "      <td>0.02</td>\n",
       "      <td>0.02</td>\n",
       "      <td>0.03</td>\n",
       "      <td>0.01</td>\n",
       "      <td>0.01</td>\n",
       "    </tr>\n",
       "    <tr>\n",
       "      <th>current_balance</th>\n",
       "      <td>-0.00</td>\n",
       "      <td>0.05</td>\n",
       "      <td>0.00</td>\n",
       "      <td>1.00</td>\n",
       "      <td>0.96</td>\n",
       "      <td>0.97</td>\n",
       "      <td>0.72</td>\n",
       "      <td>0.08</td>\n",
       "      <td>0.05</td>\n",
       "      <td>0.05</td>\n",
       "      <td>0.06</td>\n",
       "      <td>0.99</td>\n",
       "      <td>0.96</td>\n",
       "    </tr>\n",
       "    <tr>\n",
       "      <th>previous_month_end_balance</th>\n",
       "      <td>0.00</td>\n",
       "      <td>0.05</td>\n",
       "      <td>0.01</td>\n",
       "      <td>0.96</td>\n",
       "      <td>1.00</td>\n",
       "      <td>0.97</td>\n",
       "      <td>0.72</td>\n",
       "      <td>0.08</td>\n",
       "      <td>0.11</td>\n",
       "      <td>0.11</td>\n",
       "      <td>0.09</td>\n",
       "      <td>0.98</td>\n",
       "      <td>0.97</td>\n",
       "    </tr>\n",
       "    <tr>\n",
       "      <th>average_monthly_balance_prevQ</th>\n",
       "      <td>-0.00</td>\n",
       "      <td>0.05</td>\n",
       "      <td>0.01</td>\n",
       "      <td>0.97</td>\n",
       "      <td>0.97</td>\n",
       "      <td>1.00</td>\n",
       "      <td>0.76</td>\n",
       "      <td>0.10</td>\n",
       "      <td>0.08</td>\n",
       "      <td>0.10</td>\n",
       "      <td>0.11</td>\n",
       "      <td>0.98</td>\n",
       "      <td>1.00</td>\n",
       "    </tr>\n",
       "    <tr>\n",
       "      <th>average_monthly_balance_prevQ2</th>\n",
       "      <td>-0.00</td>\n",
       "      <td>0.05</td>\n",
       "      <td>0.01</td>\n",
       "      <td>0.72</td>\n",
       "      <td>0.72</td>\n",
       "      <td>0.76</td>\n",
       "      <td>1.00</td>\n",
       "      <td>0.06</td>\n",
       "      <td>0.06</td>\n",
       "      <td>0.06</td>\n",
       "      <td>0.09</td>\n",
       "      <td>0.73</td>\n",
       "      <td>0.73</td>\n",
       "    </tr>\n",
       "    <tr>\n",
       "      <th>current_month_credit</th>\n",
       "      <td>-0.00</td>\n",
       "      <td>0.04</td>\n",
       "      <td>0.02</td>\n",
       "      <td>0.08</td>\n",
       "      <td>0.08</td>\n",
       "      <td>0.10</td>\n",
       "      <td>0.06</td>\n",
       "      <td>1.00</td>\n",
       "      <td>0.57</td>\n",
       "      <td>0.80</td>\n",
       "      <td>0.46</td>\n",
       "      <td>0.09</td>\n",
       "      <td>0.11</td>\n",
       "    </tr>\n",
       "    <tr>\n",
       "      <th>previous_month_credit</th>\n",
       "      <td>-0.00</td>\n",
       "      <td>0.03</td>\n",
       "      <td>0.02</td>\n",
       "      <td>0.05</td>\n",
       "      <td>0.11</td>\n",
       "      <td>0.08</td>\n",
       "      <td>0.06</td>\n",
       "      <td>0.57</td>\n",
       "      <td>1.00</td>\n",
       "      <td>0.39</td>\n",
       "      <td>0.74</td>\n",
       "      <td>0.08</td>\n",
       "      <td>0.10</td>\n",
       "    </tr>\n",
       "    <tr>\n",
       "      <th>current_month_debit</th>\n",
       "      <td>-0.00</td>\n",
       "      <td>0.04</td>\n",
       "      <td>0.02</td>\n",
       "      <td>0.05</td>\n",
       "      <td>0.11</td>\n",
       "      <td>0.10</td>\n",
       "      <td>0.06</td>\n",
       "      <td>0.80</td>\n",
       "      <td>0.39</td>\n",
       "      <td>1.00</td>\n",
       "      <td>0.46</td>\n",
       "      <td>0.10</td>\n",
       "      <td>0.11</td>\n",
       "    </tr>\n",
       "    <tr>\n",
       "      <th>previous_month_debit</th>\n",
       "      <td>-0.01</td>\n",
       "      <td>0.03</td>\n",
       "      <td>0.03</td>\n",
       "      <td>0.06</td>\n",
       "      <td>0.09</td>\n",
       "      <td>0.11</td>\n",
       "      <td>0.09</td>\n",
       "      <td>0.46</td>\n",
       "      <td>0.74</td>\n",
       "      <td>0.46</td>\n",
       "      <td>1.00</td>\n",
       "      <td>0.08</td>\n",
       "      <td>0.13</td>\n",
       "    </tr>\n",
       "    <tr>\n",
       "      <th>current_month_balance</th>\n",
       "      <td>-0.00</td>\n",
       "      <td>0.05</td>\n",
       "      <td>0.01</td>\n",
       "      <td>0.99</td>\n",
       "      <td>0.98</td>\n",
       "      <td>0.98</td>\n",
       "      <td>0.73</td>\n",
       "      <td>0.09</td>\n",
       "      <td>0.08</td>\n",
       "      <td>0.10</td>\n",
       "      <td>0.08</td>\n",
       "      <td>1.00</td>\n",
       "      <td>0.97</td>\n",
       "    </tr>\n",
       "    <tr>\n",
       "      <th>previous_month_balance</th>\n",
       "      <td>-0.00</td>\n",
       "      <td>0.05</td>\n",
       "      <td>0.01</td>\n",
       "      <td>0.96</td>\n",
       "      <td>0.97</td>\n",
       "      <td>1.00</td>\n",
       "      <td>0.73</td>\n",
       "      <td>0.11</td>\n",
       "      <td>0.10</td>\n",
       "      <td>0.11</td>\n",
       "      <td>0.13</td>\n",
       "      <td>0.97</td>\n",
       "      <td>1.00</td>\n",
       "    </tr>\n",
       "  </tbody>\n",
       "</table>\n",
       "</div>"
      ],
      "text/plain": [
       "                                vintage   age  dependents  current_balance  \\\n",
       "vintage                            1.00 -0.01       -0.00            -0.00   \n",
       "age                               -0.01  1.00        0.01             0.05   \n",
       "dependents                        -0.00  0.01        1.00             0.00   \n",
       "current_balance                   -0.00  0.05        0.00             1.00   \n",
       "previous_month_end_balance         0.00  0.05        0.01             0.96   \n",
       "average_monthly_balance_prevQ     -0.00  0.05        0.01             0.97   \n",
       "average_monthly_balance_prevQ2    -0.00  0.05        0.01             0.72   \n",
       "current_month_credit              -0.00  0.04        0.02             0.08   \n",
       "previous_month_credit             -0.00  0.03        0.02             0.05   \n",
       "current_month_debit               -0.00  0.04        0.02             0.05   \n",
       "previous_month_debit              -0.01  0.03        0.03             0.06   \n",
       "current_month_balance             -0.00  0.05        0.01             0.99   \n",
       "previous_month_balance            -0.00  0.05        0.01             0.96   \n",
       "\n",
       "                                previous_month_end_balance  \\\n",
       "vintage                                               0.00   \n",
       "age                                                   0.05   \n",
       "dependents                                            0.01   \n",
       "current_balance                                       0.96   \n",
       "previous_month_end_balance                            1.00   \n",
       "average_monthly_balance_prevQ                         0.97   \n",
       "average_monthly_balance_prevQ2                        0.72   \n",
       "current_month_credit                                  0.08   \n",
       "previous_month_credit                                 0.11   \n",
       "current_month_debit                                   0.11   \n",
       "previous_month_debit                                  0.09   \n",
       "current_month_balance                                 0.98   \n",
       "previous_month_balance                                0.97   \n",
       "\n",
       "                                average_monthly_balance_prevQ  \\\n",
       "vintage                                                 -0.00   \n",
       "age                                                      0.05   \n",
       "dependents                                               0.01   \n",
       "current_balance                                          0.97   \n",
       "previous_month_end_balance                               0.97   \n",
       "average_monthly_balance_prevQ                            1.00   \n",
       "average_monthly_balance_prevQ2                           0.76   \n",
       "current_month_credit                                     0.10   \n",
       "previous_month_credit                                    0.08   \n",
       "current_month_debit                                      0.10   \n",
       "previous_month_debit                                     0.11   \n",
       "current_month_balance                                    0.98   \n",
       "previous_month_balance                                   1.00   \n",
       "\n",
       "                                average_monthly_balance_prevQ2  \\\n",
       "vintage                                                  -0.00   \n",
       "age                                                       0.05   \n",
       "dependents                                                0.01   \n",
       "current_balance                                           0.72   \n",
       "previous_month_end_balance                                0.72   \n",
       "average_monthly_balance_prevQ                             0.76   \n",
       "average_monthly_balance_prevQ2                            1.00   \n",
       "current_month_credit                                      0.06   \n",
       "previous_month_credit                                     0.06   \n",
       "current_month_debit                                       0.06   \n",
       "previous_month_debit                                      0.09   \n",
       "current_month_balance                                     0.73   \n",
       "previous_month_balance                                    0.73   \n",
       "\n",
       "                                current_month_credit  previous_month_credit  \\\n",
       "vintage                                        -0.00                  -0.00   \n",
       "age                                             0.04                   0.03   \n",
       "dependents                                      0.02                   0.02   \n",
       "current_balance                                 0.08                   0.05   \n",
       "previous_month_end_balance                      0.08                   0.11   \n",
       "average_monthly_balance_prevQ                   0.10                   0.08   \n",
       "average_monthly_balance_prevQ2                  0.06                   0.06   \n",
       "current_month_credit                            1.00                   0.57   \n",
       "previous_month_credit                           0.57                   1.00   \n",
       "current_month_debit                             0.80                   0.39   \n",
       "previous_month_debit                            0.46                   0.74   \n",
       "current_month_balance                           0.09                   0.08   \n",
       "previous_month_balance                          0.11                   0.10   \n",
       "\n",
       "                                current_month_debit  previous_month_debit  \\\n",
       "vintage                                       -0.00                 -0.01   \n",
       "age                                            0.04                  0.03   \n",
       "dependents                                     0.02                  0.03   \n",
       "current_balance                                0.05                  0.06   \n",
       "previous_month_end_balance                     0.11                  0.09   \n",
       "average_monthly_balance_prevQ                  0.10                  0.11   \n",
       "average_monthly_balance_prevQ2                 0.06                  0.09   \n",
       "current_month_credit                           0.80                  0.46   \n",
       "previous_month_credit                          0.39                  0.74   \n",
       "current_month_debit                            1.00                  0.46   \n",
       "previous_month_debit                           0.46                  1.00   \n",
       "current_month_balance                          0.10                  0.08   \n",
       "previous_month_balance                         0.11                  0.13   \n",
       "\n",
       "                                current_month_balance  previous_month_balance  \n",
       "vintage                                         -0.00                   -0.00  \n",
       "age                                              0.05                    0.05  \n",
       "dependents                                       0.01                    0.01  \n",
       "current_balance                                  0.99                    0.96  \n",
       "previous_month_end_balance                       0.98                    0.97  \n",
       "average_monthly_balance_prevQ                    0.98                    1.00  \n",
       "average_monthly_balance_prevQ2                   0.73                    0.73  \n",
       "current_month_credit                             0.09                    0.11  \n",
       "previous_month_credit                            0.08                    0.10  \n",
       "current_month_debit                              0.10                    0.11  \n",
       "previous_month_debit                             0.08                    0.13  \n",
       "current_month_balance                            1.00                    0.97  \n",
       "previous_month_balance                           0.97                    1.00  "
      ]
     },
     "execution_count": 43,
     "metadata": {},
     "output_type": "execute_result"
    }
   ],
   "source": [
    "df[numeric_cols].corr().round(2)"
   ]
  },
  {
   "cell_type": "code",
   "execution_count": 44,
   "metadata": {},
   "outputs": [
    {
     "data": {
      "text/html": [
       "<div>\n",
       "<style scoped>\n",
       "    .dataframe tbody tr th:only-of-type {\n",
       "        vertical-align: middle;\n",
       "    }\n",
       "\n",
       "    .dataframe tbody tr th {\n",
       "        vertical-align: top;\n",
       "    }\n",
       "\n",
       "    .dataframe thead th {\n",
       "        text-align: right;\n",
       "    }\n",
       "</style>\n",
       "<table border=\"1\" class=\"dataframe\">\n",
       "  <thead>\n",
       "    <tr style=\"text-align: right;\">\n",
       "      <th></th>\n",
       "      <th>vintage</th>\n",
       "      <th>age</th>\n",
       "      <th>dependents</th>\n",
       "      <th>current_balance</th>\n",
       "      <th>previous_month_end_balance</th>\n",
       "      <th>average_monthly_balance_prevQ</th>\n",
       "      <th>average_monthly_balance_prevQ2</th>\n",
       "      <th>current_month_credit</th>\n",
       "      <th>previous_month_credit</th>\n",
       "      <th>current_month_debit</th>\n",
       "      <th>previous_month_debit</th>\n",
       "      <th>current_month_balance</th>\n",
       "      <th>previous_month_balance</th>\n",
       "    </tr>\n",
       "  </thead>\n",
       "  <tbody>\n",
       "    <tr>\n",
       "      <th>vintage</th>\n",
       "      <td>1.00</td>\n",
       "      <td>-0.01</td>\n",
       "      <td>-0.00</td>\n",
       "      <td>-0.00</td>\n",
       "      <td>0.00</td>\n",
       "      <td>-0.00</td>\n",
       "      <td>-0.00</td>\n",
       "      <td>-0.00</td>\n",
       "      <td>-0.00</td>\n",
       "      <td>-0.00</td>\n",
       "      <td>-0.01</td>\n",
       "      <td>-0.00</td>\n",
       "      <td>-0.00</td>\n",
       "    </tr>\n",
       "    <tr>\n",
       "      <th>age</th>\n",
       "      <td>-0.01</td>\n",
       "      <td>1.00</td>\n",
       "      <td>0.01</td>\n",
       "      <td>0.05</td>\n",
       "      <td>0.05</td>\n",
       "      <td>0.05</td>\n",
       "      <td>0.05</td>\n",
       "      <td>0.04</td>\n",
       "      <td>0.03</td>\n",
       "      <td>0.04</td>\n",
       "      <td>0.03</td>\n",
       "      <td>0.05</td>\n",
       "      <td>0.05</td>\n",
       "    </tr>\n",
       "    <tr>\n",
       "      <th>dependents</th>\n",
       "      <td>-0.00</td>\n",
       "      <td>0.01</td>\n",
       "      <td>1.00</td>\n",
       "      <td>0.00</td>\n",
       "      <td>0.01</td>\n",
       "      <td>0.01</td>\n",
       "      <td>0.01</td>\n",
       "      <td>0.02</td>\n",
       "      <td>0.02</td>\n",
       "      <td>0.02</td>\n",
       "      <td>0.03</td>\n",
       "      <td>0.01</td>\n",
       "      <td>0.01</td>\n",
       "    </tr>\n",
       "    <tr>\n",
       "      <th>current_balance</th>\n",
       "      <td>-0.00</td>\n",
       "      <td>0.05</td>\n",
       "      <td>0.00</td>\n",
       "      <td>1.00</td>\n",
       "      <td>0.96</td>\n",
       "      <td>0.97</td>\n",
       "      <td>0.72</td>\n",
       "      <td>0.08</td>\n",
       "      <td>0.05</td>\n",
       "      <td>0.05</td>\n",
       "      <td>0.06</td>\n",
       "      <td>0.99</td>\n",
       "      <td>0.96</td>\n",
       "    </tr>\n",
       "    <tr>\n",
       "      <th>previous_month_end_balance</th>\n",
       "      <td>0.00</td>\n",
       "      <td>0.05</td>\n",
       "      <td>0.01</td>\n",
       "      <td>0.96</td>\n",
       "      <td>1.00</td>\n",
       "      <td>0.97</td>\n",
       "      <td>0.72</td>\n",
       "      <td>0.08</td>\n",
       "      <td>0.11</td>\n",
       "      <td>0.11</td>\n",
       "      <td>0.09</td>\n",
       "      <td>0.98</td>\n",
       "      <td>0.97</td>\n",
       "    </tr>\n",
       "    <tr>\n",
       "      <th>average_monthly_balance_prevQ</th>\n",
       "      <td>-0.00</td>\n",
       "      <td>0.05</td>\n",
       "      <td>0.01</td>\n",
       "      <td>0.97</td>\n",
       "      <td>0.97</td>\n",
       "      <td>1.00</td>\n",
       "      <td>0.76</td>\n",
       "      <td>0.10</td>\n",
       "      <td>0.08</td>\n",
       "      <td>0.10</td>\n",
       "      <td>0.11</td>\n",
       "      <td>0.98</td>\n",
       "      <td>1.00</td>\n",
       "    </tr>\n",
       "    <tr>\n",
       "      <th>average_monthly_balance_prevQ2</th>\n",
       "      <td>-0.00</td>\n",
       "      <td>0.05</td>\n",
       "      <td>0.01</td>\n",
       "      <td>0.72</td>\n",
       "      <td>0.72</td>\n",
       "      <td>0.76</td>\n",
       "      <td>1.00</td>\n",
       "      <td>0.06</td>\n",
       "      <td>0.06</td>\n",
       "      <td>0.06</td>\n",
       "      <td>0.09</td>\n",
       "      <td>0.73</td>\n",
       "      <td>0.73</td>\n",
       "    </tr>\n",
       "    <tr>\n",
       "      <th>current_month_credit</th>\n",
       "      <td>-0.00</td>\n",
       "      <td>0.04</td>\n",
       "      <td>0.02</td>\n",
       "      <td>0.08</td>\n",
       "      <td>0.08</td>\n",
       "      <td>0.10</td>\n",
       "      <td>0.06</td>\n",
       "      <td>1.00</td>\n",
       "      <td>0.57</td>\n",
       "      <td>0.80</td>\n",
       "      <td>0.46</td>\n",
       "      <td>0.09</td>\n",
       "      <td>0.11</td>\n",
       "    </tr>\n",
       "    <tr>\n",
       "      <th>previous_month_credit</th>\n",
       "      <td>-0.00</td>\n",
       "      <td>0.03</td>\n",
       "      <td>0.02</td>\n",
       "      <td>0.05</td>\n",
       "      <td>0.11</td>\n",
       "      <td>0.08</td>\n",
       "      <td>0.06</td>\n",
       "      <td>0.57</td>\n",
       "      <td>1.00</td>\n",
       "      <td>0.39</td>\n",
       "      <td>0.74</td>\n",
       "      <td>0.08</td>\n",
       "      <td>0.10</td>\n",
       "    </tr>\n",
       "    <tr>\n",
       "      <th>current_month_debit</th>\n",
       "      <td>-0.00</td>\n",
       "      <td>0.04</td>\n",
       "      <td>0.02</td>\n",
       "      <td>0.05</td>\n",
       "      <td>0.11</td>\n",
       "      <td>0.10</td>\n",
       "      <td>0.06</td>\n",
       "      <td>0.80</td>\n",
       "      <td>0.39</td>\n",
       "      <td>1.00</td>\n",
       "      <td>0.46</td>\n",
       "      <td>0.10</td>\n",
       "      <td>0.11</td>\n",
       "    </tr>\n",
       "    <tr>\n",
       "      <th>previous_month_debit</th>\n",
       "      <td>-0.01</td>\n",
       "      <td>0.03</td>\n",
       "      <td>0.03</td>\n",
       "      <td>0.06</td>\n",
       "      <td>0.09</td>\n",
       "      <td>0.11</td>\n",
       "      <td>0.09</td>\n",
       "      <td>0.46</td>\n",
       "      <td>0.74</td>\n",
       "      <td>0.46</td>\n",
       "      <td>1.00</td>\n",
       "      <td>0.08</td>\n",
       "      <td>0.13</td>\n",
       "    </tr>\n",
       "    <tr>\n",
       "      <th>current_month_balance</th>\n",
       "      <td>-0.00</td>\n",
       "      <td>0.05</td>\n",
       "      <td>0.01</td>\n",
       "      <td>0.99</td>\n",
       "      <td>0.98</td>\n",
       "      <td>0.98</td>\n",
       "      <td>0.73</td>\n",
       "      <td>0.09</td>\n",
       "      <td>0.08</td>\n",
       "      <td>0.10</td>\n",
       "      <td>0.08</td>\n",
       "      <td>1.00</td>\n",
       "      <td>0.97</td>\n",
       "    </tr>\n",
       "    <tr>\n",
       "      <th>previous_month_balance</th>\n",
       "      <td>-0.00</td>\n",
       "      <td>0.05</td>\n",
       "      <td>0.01</td>\n",
       "      <td>0.96</td>\n",
       "      <td>0.97</td>\n",
       "      <td>1.00</td>\n",
       "      <td>0.73</td>\n",
       "      <td>0.11</td>\n",
       "      <td>0.10</td>\n",
       "      <td>0.11</td>\n",
       "      <td>0.13</td>\n",
       "      <td>0.97</td>\n",
       "      <td>1.00</td>\n",
       "    </tr>\n",
       "  </tbody>\n",
       "</table>\n",
       "</div>"
      ],
      "text/plain": [
       "                                vintage   age  dependents  current_balance  \\\n",
       "vintage                            1.00 -0.01       -0.00            -0.00   \n",
       "age                               -0.01  1.00        0.01             0.05   \n",
       "dependents                        -0.00  0.01        1.00             0.00   \n",
       "current_balance                   -0.00  0.05        0.00             1.00   \n",
       "previous_month_end_balance         0.00  0.05        0.01             0.96   \n",
       "average_monthly_balance_prevQ     -0.00  0.05        0.01             0.97   \n",
       "average_monthly_balance_prevQ2    -0.00  0.05        0.01             0.72   \n",
       "current_month_credit              -0.00  0.04        0.02             0.08   \n",
       "previous_month_credit             -0.00  0.03        0.02             0.05   \n",
       "current_month_debit               -0.00  0.04        0.02             0.05   \n",
       "previous_month_debit              -0.01  0.03        0.03             0.06   \n",
       "current_month_balance             -0.00  0.05        0.01             0.99   \n",
       "previous_month_balance            -0.00  0.05        0.01             0.96   \n",
       "\n",
       "                                previous_month_end_balance  \\\n",
       "vintage                                               0.00   \n",
       "age                                                   0.05   \n",
       "dependents                                            0.01   \n",
       "current_balance                                       0.96   \n",
       "previous_month_end_balance                            1.00   \n",
       "average_monthly_balance_prevQ                         0.97   \n",
       "average_monthly_balance_prevQ2                        0.72   \n",
       "current_month_credit                                  0.08   \n",
       "previous_month_credit                                 0.11   \n",
       "current_month_debit                                   0.11   \n",
       "previous_month_debit                                  0.09   \n",
       "current_month_balance                                 0.98   \n",
       "previous_month_balance                                0.97   \n",
       "\n",
       "                                average_monthly_balance_prevQ  \\\n",
       "vintage                                                 -0.00   \n",
       "age                                                      0.05   \n",
       "dependents                                               0.01   \n",
       "current_balance                                          0.97   \n",
       "previous_month_end_balance                               0.97   \n",
       "average_monthly_balance_prevQ                            1.00   \n",
       "average_monthly_balance_prevQ2                           0.76   \n",
       "current_month_credit                                     0.10   \n",
       "previous_month_credit                                    0.08   \n",
       "current_month_debit                                      0.10   \n",
       "previous_month_debit                                     0.11   \n",
       "current_month_balance                                    0.98   \n",
       "previous_month_balance                                   1.00   \n",
       "\n",
       "                                average_monthly_balance_prevQ2  \\\n",
       "vintage                                                  -0.00   \n",
       "age                                                       0.05   \n",
       "dependents                                                0.01   \n",
       "current_balance                                           0.72   \n",
       "previous_month_end_balance                                0.72   \n",
       "average_monthly_balance_prevQ                             0.76   \n",
       "average_monthly_balance_prevQ2                            1.00   \n",
       "current_month_credit                                      0.06   \n",
       "previous_month_credit                                     0.06   \n",
       "current_month_debit                                       0.06   \n",
       "previous_month_debit                                      0.09   \n",
       "current_month_balance                                     0.73   \n",
       "previous_month_balance                                    0.73   \n",
       "\n",
       "                                current_month_credit  previous_month_credit  \\\n",
       "vintage                                        -0.00                  -0.00   \n",
       "age                                             0.04                   0.03   \n",
       "dependents                                      0.02                   0.02   \n",
       "current_balance                                 0.08                   0.05   \n",
       "previous_month_end_balance                      0.08                   0.11   \n",
       "average_monthly_balance_prevQ                   0.10                   0.08   \n",
       "average_monthly_balance_prevQ2                  0.06                   0.06   \n",
       "current_month_credit                            1.00                   0.57   \n",
       "previous_month_credit                           0.57                   1.00   \n",
       "current_month_debit                             0.80                   0.39   \n",
       "previous_month_debit                            0.46                   0.74   \n",
       "current_month_balance                           0.09                   0.08   \n",
       "previous_month_balance                          0.11                   0.10   \n",
       "\n",
       "                                current_month_debit  previous_month_debit  \\\n",
       "vintage                                       -0.00                 -0.01   \n",
       "age                                            0.04                  0.03   \n",
       "dependents                                     0.02                  0.03   \n",
       "current_balance                                0.05                  0.06   \n",
       "previous_month_end_balance                     0.11                  0.09   \n",
       "average_monthly_balance_prevQ                  0.10                  0.11   \n",
       "average_monthly_balance_prevQ2                 0.06                  0.09   \n",
       "current_month_credit                           0.80                  0.46   \n",
       "previous_month_credit                          0.39                  0.74   \n",
       "current_month_debit                            1.00                  0.46   \n",
       "previous_month_debit                           0.46                  1.00   \n",
       "current_month_balance                          0.10                  0.08   \n",
       "previous_month_balance                         0.11                  0.13   \n",
       "\n",
       "                                current_month_balance  previous_month_balance  \n",
       "vintage                                         -0.00                   -0.00  \n",
       "age                                              0.05                    0.05  \n",
       "dependents                                       0.01                    0.01  \n",
       "current_balance                                  0.99                    0.96  \n",
       "previous_month_end_balance                       0.98                    0.97  \n",
       "average_monthly_balance_prevQ                    0.98                    1.00  \n",
       "average_monthly_balance_prevQ2                   0.73                    0.73  \n",
       "current_month_credit                             0.09                    0.11  \n",
       "previous_month_credit                            0.08                    0.10  \n",
       "current_month_debit                              0.10                    0.11  \n",
       "previous_month_debit                             0.08                    0.13  \n",
       "current_month_balance                            1.00                    0.97  \n",
       "previous_month_balance                           0.97                    1.00  "
      ]
     },
     "execution_count": 44,
     "metadata": {},
     "output_type": "execute_result"
    }
   ],
   "source": [
    "numeric_features = df[numeric_cols]\n",
    "numeric_features.corr().round(2)"
   ]
  },
  {
   "cell_type": "code",
   "execution_count": 48,
   "metadata": {},
   "outputs": [
    {
     "data": {
      "text/plain": [
       "0.3254242672811818"
      ]
     },
     "execution_count": 48,
     "metadata": {},
     "output_type": "execute_result"
    }
   ],
   "source": [
    "df['age'].skew()  # close to 0, means almost a normal distribution"
   ]
  },
  {
   "cell_type": "code",
   "execution_count": 49,
   "metadata": {},
   "outputs": [
    {
     "data": {
      "text/plain": [
       "18.50150115245441"
      ]
     },
     "execution_count": 49,
     "metadata": {},
     "output_type": "execute_result"
    }
   ],
   "source": [
    "df['dependents'].skew()"
   ]
  },
  {
   "cell_type": "code",
   "execution_count": 50,
   "metadata": {},
   "outputs": [
    {
     "data": {
      "text/plain": [
       "count    15929.00\n",
       "mean         0.37\n",
       "std          1.05\n",
       "min          0.00\n",
       "25%          0.00\n",
       "50%          0.00\n",
       "75%          0.00\n",
       "max         52.00\n",
       "Name: dependents, dtype: float64"
      ]
     },
     "execution_count": 50,
     "metadata": {},
     "output_type": "execute_result"
    }
   ],
   "source": [
    "df['dependents'].describe().round(2)"
   ]
  },
  {
   "cell_type": "code",
   "execution_count": null,
   "metadata": {},
   "outputs": [],
   "source": []
  },
  {
   "cell_type": "code",
   "execution_count": null,
   "metadata": {},
   "outputs": [],
   "source": []
  },
  {
   "cell_type": "code",
   "execution_count": null,
   "metadata": {},
   "outputs": [],
   "source": []
  },
  {
   "cell_type": "code",
   "execution_count": 51,
   "metadata": {},
   "outputs": [
    {
     "name": "stdout",
     "output_type": "stream",
     "text": [
      "Spearman's correlation coefficient: -0.28\n",
      "P-value: 0.0000\n"
     ]
    }
   ],
   "source": [
    "import pandas as pd\n",
    "from scipy.stats import spearmanr\n",
    "\n",
    "# Calculate Spearman's correlation coefficient\n",
    "correlation, p_value = spearmanr(df['churn'], df['current_balance'])\n",
    "\n",
    "# Print the correlation coefficient\n",
    "print(f\"Spearman's correlation coefficient: {correlation:.2f}\")\n",
    "print(f\"P-value: {p_value:.4f}\")"
   ]
  },
  {
   "cell_type": "code",
   "execution_count": null,
   "metadata": {},
   "outputs": [],
   "source": []
  },
  {
   "cell_type": "code",
   "execution_count": null,
   "metadata": {},
   "outputs": [],
   "source": []
  },
  {
   "cell_type": "code",
   "execution_count": 61,
   "metadata": {},
   "outputs": [
    {
     "data": {
      "text/html": [
       "<div>\n",
       "<style scoped>\n",
       "    .dataframe tbody tr th:only-of-type {\n",
       "        vertical-align: middle;\n",
       "    }\n",
       "\n",
       "    .dataframe tbody tr th {\n",
       "        vertical-align: top;\n",
       "    }\n",
       "\n",
       "    .dataframe thead th {\n",
       "        text-align: right;\n",
       "    }\n",
       "</style>\n",
       "<table border=\"1\" class=\"dataframe\">\n",
       "  <thead>\n",
       "    <tr style=\"text-align: right;\">\n",
       "      <th>occupation</th>\n",
       "      <th>company</th>\n",
       "      <th>retired</th>\n",
       "      <th>salaried</th>\n",
       "      <th>self_employed</th>\n",
       "      <th>student</th>\n",
       "    </tr>\n",
       "    <tr>\n",
       "      <th>gender</th>\n",
       "      <th></th>\n",
       "      <th></th>\n",
       "      <th></th>\n",
       "      <th></th>\n",
       "      <th></th>\n",
       "    </tr>\n",
       "  </thead>\n",
       "  <tbody>\n",
       "    <tr>\n",
       "      <th>Female</th>\n",
       "      <td>7252.133333</td>\n",
       "      <td>9451.870227</td>\n",
       "      <td>6741.694728</td>\n",
       "      <td>6740.108853</td>\n",
       "      <td>4406.522451</td>\n",
       "    </tr>\n",
       "    <tr>\n",
       "      <th>Male</th>\n",
       "      <td>4870.325500</td>\n",
       "      <td>5924.387243</td>\n",
       "      <td>7348.304184</td>\n",
       "      <td>8863.783117</td>\n",
       "      <td>4722.288921</td>\n",
       "    </tr>\n",
       "  </tbody>\n",
       "</table>\n",
       "</div>"
      ],
      "text/plain": [
       "occupation      company      retired     salaried  self_employed      student\n",
       "gender                                                                       \n",
       "Female      7252.133333  9451.870227  6741.694728    6740.108853  4406.522451\n",
       "Male        4870.325500  5924.387243  7348.304184    8863.783117  4722.288921"
      ]
     },
     "execution_count": 61,
     "metadata": {},
     "output_type": "execute_result"
    }
   ],
   "source": [
    "pd.pivot_table(df, index='gender', columns='occupation', aggfunc='mean')['previous_month_end_balance']"
   ]
  },
  {
   "cell_type": "code",
   "execution_count": 52,
   "metadata": {},
   "outputs": [
    {
     "name": "stdout",
     "output_type": "stream",
     "text": [
      "Spearman's correlation coefficient: -0.02\n"
     ]
    }
   ],
   "source": [
    "# Calculate Spearman's correlation coefficient using Pandas\n",
    "correlation = df['churn'].corr(df['age'], method='spearman')\n",
    "\n",
    "# Print the correlation coefficient\n",
    "print(f\"Spearman's correlation coefficient: {correlation:.2f}\")"
   ]
  },
  {
   "cell_type": "code",
   "execution_count": 62,
   "metadata": {},
   "outputs": [
    {
     "data": {
      "text/plain": [
       "customer_nw_category\n",
       "1    12118.510080\n",
       "2     7735.583403\n",
       "3     4783.517126\n",
       "Name: current_balance, dtype: float64"
      ]
     },
     "execution_count": 62,
     "metadata": {},
     "output_type": "execute_result"
    }
   ],
   "source": [
    "df.groupby(df['customer_nw_category']).mean()['current_balance']"
   ]
  },
  {
   "cell_type": "code",
   "execution_count": 64,
   "metadata": {},
   "outputs": [
    {
     "name": "stdout",
     "output_type": "stream",
     "text": [
      "Spearman's correlation coefficient (customer_nw_category and churn): 0.01\n"
     ]
    }
   ],
   "source": [
    "# Calculate Spearman's correlation coefficient between customer_nw_category and churn\n",
    "correlation, _ = spearmanr(df['customer_nw_category'], df['churn'])\n",
    "\n",
    "# Print the correlation coefficient\n",
    "print(f\"Spearman's correlation coefficient (customer_nw_category and churn): {correlation:.2f}\")"
   ]
  },
  {
   "cell_type": "code",
   "execution_count": 65,
   "metadata": {},
   "outputs": [
    {
     "name": "stdout",
     "output_type": "stream",
     "text": [
      "Spearman's correlation coefficient (customer_nw_category and age): -0.06\n"
     ]
    }
   ],
   "source": [
    "# Calculate Spearman's correlation coefficient between customer_nw_category and churn\n",
    "correlation, _ = spearmanr(df['customer_nw_category'], df['age'])\n",
    "\n",
    "# Print the correlation coefficient\n",
    "print(f\"Spearman's correlation coefficient (customer_nw_category and age): {correlation:.2f}\")"
   ]
  },
  {
   "cell_type": "code",
   "execution_count": null,
   "metadata": {},
   "outputs": [],
   "source": [
    "# Cramer's V >>> 0 to 1, 0 means no association, 1 means strong association"
   ]
  },
  {
   "cell_type": "code",
   "execution_count": 66,
   "metadata": {},
   "outputs": [
    {
     "data": {
      "text/html": [
       "<div>\n",
       "<style scoped>\n",
       "    .dataframe tbody tr th:only-of-type {\n",
       "        vertical-align: middle;\n",
       "    }\n",
       "\n",
       "    .dataframe tbody tr th {\n",
       "        vertical-align: top;\n",
       "    }\n",
       "\n",
       "    .dataframe thead th {\n",
       "        text-align: right;\n",
       "    }\n",
       "</style>\n",
       "<table border=\"1\" class=\"dataframe\">\n",
       "  <thead>\n",
       "    <tr style=\"text-align: right;\">\n",
       "      <th>occupation</th>\n",
       "      <th>company</th>\n",
       "      <th>retired</th>\n",
       "      <th>salaried</th>\n",
       "      <th>self_employed</th>\n",
       "      <th>student</th>\n",
       "    </tr>\n",
       "    <tr>\n",
       "      <th>gender</th>\n",
       "      <th></th>\n",
       "      <th></th>\n",
       "      <th></th>\n",
       "      <th></th>\n",
       "      <th></th>\n",
       "    </tr>\n",
       "  </thead>\n",
       "  <tbody>\n",
       "    <tr>\n",
       "      <th>Female</th>\n",
       "      <td>3</td>\n",
       "      <td>220</td>\n",
       "      <td>1030</td>\n",
       "      <td>4518</td>\n",
       "      <td>563</td>\n",
       "    </tr>\n",
       "    <tr>\n",
       "      <th>Male</th>\n",
       "      <td>20</td>\n",
       "      <td>925</td>\n",
       "      <td>2715</td>\n",
       "      <td>5342</td>\n",
       "      <td>593</td>\n",
       "    </tr>\n",
       "  </tbody>\n",
       "</table>\n",
       "</div>"
      ],
      "text/plain": [
       "occupation  company  retired  salaried  self_employed  student\n",
       "gender                                                        \n",
       "Female            3      220      1030           4518      563\n",
       "Male             20      925      2715           5342      593"
      ]
     },
     "execution_count": 66,
     "metadata": {},
     "output_type": "execute_result"
    }
   ],
   "source": [
    "from scipy.stats import chi2_contingency\n",
    "\n",
    "# Create a contingency table for 'gender' and 'occupation'\n",
    "contingency_table = pd.crosstab(df['gender'], df['occupation'])\n",
    "contingency_table"
   ]
  },
  {
   "cell_type": "code",
   "execution_count": 49,
   "metadata": {},
   "outputs": [
    {
     "name": "stdout",
     "output_type": "stream",
     "text": [
      "Cramer's V (gender and occupation): 0.20\n"
     ]
    }
   ],
   "source": [
    "# Calculate the chi-square test statistic, p-value, and degrees of freedom\n",
    "chi2, p_value, _, _ = chi2_contingency(contingency_table)\n",
    "\n",
    "# Calculate Cramer's V\n",
    "n = contingency_table.sum().sum()\n",
    "phi = np.sqrt(chi2 / n)\n",
    "k = min(contingency_table.shape) - 1\n",
    "v = phi / np.sqrt(k)\n",
    "\n",
    "# Print Cramer's V\n",
    "print(f\"Cramer's V (gender and occupation): {v:.2f}\")"
   ]
  },
  {
   "cell_type": "code",
   "execution_count": null,
   "metadata": {},
   "outputs": [],
   "source": [
    "# Cramer's V close to 0: It suggests a weak or negligible association between the variables.\n",
    "# Cramer's V around 0.1: It implies a small or weak association.\n",
    "# Cramer's V around 0.3: It suggests a moderate association.\n",
    "# Cramer's V around 0.5 or higher: It indicates a strong association."
   ]
  },
  {
   "cell_type": "markdown",
   "metadata": {},
   "source": [
    "Kendall's tau is a suitable measure for assessing the strength and direction of the relationship between two ordinal variables."
   ]
  },
  {
   "cell_type": "code",
   "execution_count": 67,
   "metadata": {},
   "outputs": [
    {
     "name": "stdout",
     "output_type": "stream",
     "text": [
      "Kendall's correlation coefficient (customer_nw_category and age): 0.01\n"
     ]
    }
   ],
   "source": [
    "from scipy.stats import kendalltau\n",
    "# Calculate Kendall's correlation coefficient between customer_nw_category and age\n",
    "correlation, _ = kendalltau(df['customer_nw_category'], df['dependents'])\n",
    "\n",
    "# Print the correlation coefficient\n",
    "print(f\"Kendall's correlation coefficient (customer_nw_category and age): {correlation:.2f}\")"
   ]
  },
  {
   "cell_type": "code",
   "execution_count": null,
   "metadata": {},
   "outputs": [],
   "source": []
  },
  {
   "cell_type": "code",
   "execution_count": null,
   "metadata": {},
   "outputs": [],
   "source": []
  },
  {
   "cell_type": "code",
   "execution_count": null,
   "metadata": {},
   "outputs": [],
   "source": []
  },
  {
   "cell_type": "code",
   "execution_count": null,
   "metadata": {},
   "outputs": [],
   "source": []
  },
  {
   "cell_type": "code",
   "execution_count": 52,
   "metadata": {},
   "outputs": [],
   "source": [
    "# HW Problem\n",
    "\n",
    "# \"A website displays 10 advertisements and the revenue generated by the website depends\n",
    "# on the number of visitors to the site clicking on any of the advertisements displayed on\n",
    "# the website. The data collected by the company has revealed that out of 2500 visitors,\n",
    "# 30 visitors clicked on 1 advertisement, 15 clicked on 2 advertisements, and 5 clicked on\n",
    "# 3 advertisements. Remaining did not click on any of the advertisements. Calculate:\n",
    "# (a) The probability that a visitor to the website will click on an advertisement.\n",
    "# (b) The probability that the visitor will click on at least two advertisements. \n",
    "# (c) The probability that a visitor will not click on any advertisements.\""
   ]
  },
  {
   "cell_type": "code",
   "execution_count": null,
   "metadata": {},
   "outputs": [],
   "source": []
  },
  {
   "cell_type": "code",
   "execution_count": 69,
   "metadata": {},
   "outputs": [
    {
     "data": {
      "text/html": [
       "<div>\n",
       "<style scoped>\n",
       "    .dataframe tbody tr th:only-of-type {\n",
       "        vertical-align: middle;\n",
       "    }\n",
       "\n",
       "    .dataframe tbody tr th {\n",
       "        vertical-align: top;\n",
       "    }\n",
       "\n",
       "    .dataframe thead th {\n",
       "        text-align: right;\n",
       "    }\n",
       "</style>\n",
       "<table border=\"1\" class=\"dataframe\">\n",
       "  <thead>\n",
       "    <tr style=\"text-align: right;\">\n",
       "      <th></th>\n",
       "      <th>vintage</th>\n",
       "      <th>age</th>\n",
       "      <th>gender</th>\n",
       "      <th>dependents</th>\n",
       "      <th>occupation</th>\n",
       "      <th>city</th>\n",
       "      <th>customer_nw_category</th>\n",
       "      <th>branch_code</th>\n",
       "      <th>current_balance</th>\n",
       "      <th>previous_month_end_balance</th>\n",
       "      <th>average_monthly_balance_prevQ</th>\n",
       "      <th>average_monthly_balance_prevQ2</th>\n",
       "      <th>current_month_credit</th>\n",
       "      <th>previous_month_credit</th>\n",
       "      <th>current_month_debit</th>\n",
       "      <th>previous_month_debit</th>\n",
       "      <th>current_month_balance</th>\n",
       "      <th>previous_month_balance</th>\n",
       "      <th>churn</th>\n",
       "    </tr>\n",
       "  </thead>\n",
       "  <tbody>\n",
       "    <tr>\n",
       "      <th>0</th>\n",
       "      <td>2401</td>\n",
       "      <td>66</td>\n",
       "      <td>Male</td>\n",
       "      <td>0</td>\n",
       "      <td>self_employed</td>\n",
       "      <td>187</td>\n",
       "      <td>2</td>\n",
       "      <td>755</td>\n",
       "      <td>1458.71</td>\n",
       "      <td>1458.71</td>\n",
       "      <td>1458.71</td>\n",
       "      <td>1449.07</td>\n",
       "      <td>0.20</td>\n",
       "      <td>0.20</td>\n",
       "      <td>0.20</td>\n",
       "      <td>0.20</td>\n",
       "      <td>1458.71</td>\n",
       "      <td>1458.71</td>\n",
       "      <td>0.0</td>\n",
       "    </tr>\n",
       "    <tr>\n",
       "      <th>1</th>\n",
       "      <td>2648</td>\n",
       "      <td>35</td>\n",
       "      <td>Male</td>\n",
       "      <td>0</td>\n",
       "      <td>self_employed</td>\n",
       "      <td>100000</td>\n",
       "      <td>2</td>\n",
       "      <td>3214</td>\n",
       "      <td>5390.37</td>\n",
       "      <td>8704.66</td>\n",
       "      <td>7799.26</td>\n",
       "      <td>12419.41</td>\n",
       "      <td>0.56</td>\n",
       "      <td>0.56</td>\n",
       "      <td>5486.27</td>\n",
       "      <td>100.56</td>\n",
       "      <td>6496.78</td>\n",
       "      <td>8787.61</td>\n",
       "      <td>0.0</td>\n",
       "    </tr>\n",
       "    <tr>\n",
       "      <th>2</th>\n",
       "      <td>2494</td>\n",
       "      <td>31</td>\n",
       "      <td>Male</td>\n",
       "      <td>0</td>\n",
       "      <td>salaried</td>\n",
       "      <td>146</td>\n",
       "      <td>2</td>\n",
       "      <td>41</td>\n",
       "      <td>3913.16</td>\n",
       "      <td>5815.29</td>\n",
       "      <td>4910.17</td>\n",
       "      <td>2815.94</td>\n",
       "      <td>0.61</td>\n",
       "      <td>0.61</td>\n",
       "      <td>6046.73</td>\n",
       "      <td>259.23</td>\n",
       "      <td>5006.28</td>\n",
       "      <td>5070.14</td>\n",
       "      <td>0.0</td>\n",
       "    </tr>\n",
       "    <tr>\n",
       "      <th>3</th>\n",
       "      <td>2629</td>\n",
       "      <td>90</td>\n",
       "      <td>Male</td>\n",
       "      <td>1</td>\n",
       "      <td>self_employed</td>\n",
       "      <td>1020</td>\n",
       "      <td>2</td>\n",
       "      <td>582</td>\n",
       "      <td>2291.91</td>\n",
       "      <td>2291.91</td>\n",
       "      <td>2084.54</td>\n",
       "      <td>1006.54</td>\n",
       "      <td>0.47</td>\n",
       "      <td>0.47</td>\n",
       "      <td>0.47</td>\n",
       "      <td>2143.33</td>\n",
       "      <td>2291.91</td>\n",
       "      <td>1669.79</td>\n",
       "      <td>1.0</td>\n",
       "    </tr>\n",
       "    <tr>\n",
       "      <th>4</th>\n",
       "      <td>1879</td>\n",
       "      <td>42</td>\n",
       "      <td>Male</td>\n",
       "      <td>2</td>\n",
       "      <td>self_employed</td>\n",
       "      <td>1494</td>\n",
       "      <td>3</td>\n",
       "      <td>388</td>\n",
       "      <td>927.72</td>\n",
       "      <td>1401.72</td>\n",
       "      <td>1643.31</td>\n",
       "      <td>1871.12</td>\n",
       "      <td>0.33</td>\n",
       "      <td>714.61</td>\n",
       "      <td>588.62</td>\n",
       "      <td>1538.06</td>\n",
       "      <td>1157.15</td>\n",
       "      <td>1677.16</td>\n",
       "      <td>1.0</td>\n",
       "    </tr>\n",
       "  </tbody>\n",
       "</table>\n",
       "</div>"
      ],
      "text/plain": [
       "   vintage  age gender  dependents     occupation    city  \\\n",
       "0     2401   66   Male           0  self_employed     187   \n",
       "1     2648   35   Male           0  self_employed  100000   \n",
       "2     2494   31   Male           0       salaried     146   \n",
       "3     2629   90   Male           1  self_employed    1020   \n",
       "4     1879   42   Male           2  self_employed    1494   \n",
       "\n",
       "  customer_nw_category branch_code  current_balance  \\\n",
       "0                    2         755          1458.71   \n",
       "1                    2        3214          5390.37   \n",
       "2                    2          41          3913.16   \n",
       "3                    2         582          2291.91   \n",
       "4                    3         388           927.72   \n",
       "\n",
       "   previous_month_end_balance  average_monthly_balance_prevQ  \\\n",
       "0                     1458.71                        1458.71   \n",
       "1                     8704.66                        7799.26   \n",
       "2                     5815.29                        4910.17   \n",
       "3                     2291.91                        2084.54   \n",
       "4                     1401.72                        1643.31   \n",
       "\n",
       "   average_monthly_balance_prevQ2  current_month_credit  \\\n",
       "0                         1449.07                  0.20   \n",
       "1                        12419.41                  0.56   \n",
       "2                         2815.94                  0.61   \n",
       "3                         1006.54                  0.47   \n",
       "4                         1871.12                  0.33   \n",
       "\n",
       "   previous_month_credit  current_month_debit  previous_month_debit  \\\n",
       "0                   0.20                 0.20                  0.20   \n",
       "1                   0.56              5486.27                100.56   \n",
       "2                   0.61              6046.73                259.23   \n",
       "3                   0.47                 0.47               2143.33   \n",
       "4                 714.61               588.62               1538.06   \n",
       "\n",
       "   current_month_balance  previous_month_balance churn  \n",
       "0                1458.71                 1458.71   0.0  \n",
       "1                6496.78                 8787.61   0.0  \n",
       "2                5006.28                 5070.14   0.0  \n",
       "3                2291.91                 1669.79   1.0  \n",
       "4                1157.15                 1677.16   1.0  "
      ]
     },
     "execution_count": 69,
     "metadata": {},
     "output_type": "execute_result"
    }
   ],
   "source": [
    "df.head()"
   ]
  },
  {
   "cell_type": "code",
   "execution_count": 70,
   "metadata": {},
   "outputs": [],
   "source": [
    "# MArginal prob. >>> Prob of an event occuring irrespective of any other event."
   ]
  },
  {
   "cell_type": "code",
   "execution_count": 75,
   "metadata": {},
   "outputs": [
    {
     "data": {
      "text/plain": [
       "0.6023604746060645"
      ]
     },
     "execution_count": 75,
     "metadata": {},
     "output_type": "execute_result"
    }
   ],
   "source": [
    "# Find the marginal prob of male in the dataset ???\n",
    "# If I randomly pick a customer from the dataset, what is the prob. that \n",
    "# this customer will turn out to be a male??\n",
    "\n",
    "# P(Male) = no. of males in the dataset/total no. of customers\n",
    "sum(df.gender=='Male')/len(df.gender)"
   ]
  },
  {
   "cell_type": "code",
   "execution_count": 76,
   "metadata": {},
   "outputs": [
    {
     "data": {
      "text/plain": [
       "Male      9595\n",
       "Female    6334\n",
       "Name: gender, dtype: int64"
      ]
     },
     "execution_count": 76,
     "metadata": {},
     "output_type": "execute_result"
    }
   ],
   "source": [
    "df['gender'].value_counts()"
   ]
  },
  {
   "cell_type": "code",
   "execution_count": 77,
   "metadata": {},
   "outputs": [
    {
     "data": {
      "text/plain": [
       "9595"
      ]
     },
     "execution_count": 77,
     "metadata": {},
     "output_type": "execute_result"
    }
   ],
   "source": [
    "df['gender'].value_counts()['Male']"
   ]
  },
  {
   "cell_type": "code",
   "execution_count": 78,
   "metadata": {},
   "outputs": [
    {
     "data": {
      "text/plain": [
       "0.6023604746060645"
      ]
     },
     "execution_count": 78,
     "metadata": {},
     "output_type": "execute_result"
    }
   ],
   "source": [
    "df['gender'].value_counts()['Male'] / len(df)"
   ]
  },
  {
   "cell_type": "code",
   "execution_count": 79,
   "metadata": {},
   "outputs": [
    {
     "data": {
      "text/plain": [
       "Male      0.60236\n",
       "Female    0.39764\n",
       "Name: gender, dtype: float64"
      ]
     },
     "execution_count": 79,
     "metadata": {},
     "output_type": "execute_result"
    }
   ],
   "source": [
    "df['gender'].value_counts(normalize=True)"
   ]
  },
  {
   "cell_type": "code",
   "execution_count": 82,
   "metadata": {},
   "outputs": [
    {
     "data": {
      "text/plain": [
       "0.18751961830623393"
      ]
     },
     "execution_count": 82,
     "metadata": {},
     "output_type": "execute_result"
    }
   ],
   "source": [
    "# P(churn) = ???   (marginal prob. of customer churn)\n",
    "df.churn.value_counts(normalize=True )[1.0]"
   ]
  },
  {
   "cell_type": "code",
   "execution_count": null,
   "metadata": {},
   "outputs": [],
   "source": [
    "# JOINT PROB : prob. that 2 events are occuring simulteaneously\n",
    "# P(MAle and salaried) = ???\n",
    "\n",
    "# If I randomly pick a customer from the dataset, what is the prob. that \n",
    "# this customer will turn out to be a male, AND SALARIED ??\n"
   ]
  },
  {
   "cell_type": "code",
   "execution_count": 83,
   "metadata": {},
   "outputs": [
    {
     "data": {
      "text/html": [
       "<div>\n",
       "<style scoped>\n",
       "    .dataframe tbody tr th:only-of-type {\n",
       "        vertical-align: middle;\n",
       "    }\n",
       "\n",
       "    .dataframe tbody tr th {\n",
       "        vertical-align: top;\n",
       "    }\n",
       "\n",
       "    .dataframe thead th {\n",
       "        text-align: right;\n",
       "    }\n",
       "</style>\n",
       "<table border=\"1\" class=\"dataframe\">\n",
       "  <thead>\n",
       "    <tr style=\"text-align: right;\">\n",
       "      <th>occupation</th>\n",
       "      <th>company</th>\n",
       "      <th>retired</th>\n",
       "      <th>salaried</th>\n",
       "      <th>self_employed</th>\n",
       "      <th>student</th>\n",
       "    </tr>\n",
       "    <tr>\n",
       "      <th>gender</th>\n",
       "      <th></th>\n",
       "      <th></th>\n",
       "      <th></th>\n",
       "      <th></th>\n",
       "      <th></th>\n",
       "    </tr>\n",
       "  </thead>\n",
       "  <tbody>\n",
       "    <tr>\n",
       "      <th>Female</th>\n",
       "      <td>3</td>\n",
       "      <td>220</td>\n",
       "      <td>1030</td>\n",
       "      <td>4518</td>\n",
       "      <td>563</td>\n",
       "    </tr>\n",
       "    <tr>\n",
       "      <th>Male</th>\n",
       "      <td>20</td>\n",
       "      <td>925</td>\n",
       "      <td>2715</td>\n",
       "      <td>5342</td>\n",
       "      <td>593</td>\n",
       "    </tr>\n",
       "  </tbody>\n",
       "</table>\n",
       "</div>"
      ],
      "text/plain": [
       "occupation  company  retired  salaried  self_employed  student\n",
       "gender                                                        \n",
       "Female            3      220      1030           4518      563\n",
       "Male             20      925      2715           5342      593"
      ]
     },
     "execution_count": 83,
     "metadata": {},
     "output_type": "execute_result"
    }
   ],
   "source": [
    "pd.crosstab(df['gender'], df['occupation'])"
   ]
  },
  {
   "cell_type": "code",
   "execution_count": 84,
   "metadata": {},
   "outputs": [
    {
     "data": {
      "text/plain": [
       "0.17044384456023604"
      ]
     },
     "execution_count": 84,
     "metadata": {},
     "output_type": "execute_result"
    }
   ],
   "source": [
    "2715/len(df)"
   ]
  },
  {
   "cell_type": "code",
   "execution_count": 85,
   "metadata": {},
   "outputs": [
    {
     "data": {
      "text/plain": [
       "2715"
      ]
     },
     "execution_count": 85,
     "metadata": {},
     "output_type": "execute_result"
    }
   ],
   "source": [
    "sum((df.gender=='Male') & (df.occupation=='salaried'))"
   ]
  },
  {
   "cell_type": "code",
   "execution_count": 86,
   "metadata": {},
   "outputs": [
    {
     "data": {
      "text/plain": [
       "0.17044384456023604"
      ]
     },
     "execution_count": 86,
     "metadata": {},
     "output_type": "execute_result"
    }
   ],
   "source": [
    "sum((df.gender=='Male') & (df.occupation=='salaried')) / len(df)"
   ]
  },
  {
   "cell_type": "code",
   "execution_count": 88,
   "metadata": {},
   "outputs": [
    {
     "data": {
      "text/plain": [
       "0.17044384456023604"
      ]
     },
     "execution_count": 88,
     "metadata": {},
     "output_type": "execute_result"
    }
   ],
   "source": [
    "pd.crosstab(df['gender'],df['occupation'])['salaried'].values[1]/len(df)"
   ]
  },
  {
   "cell_type": "code",
   "execution_count": 90,
   "metadata": {},
   "outputs": [
    {
     "data": {
      "text/plain": [
       "gender\n",
       "Female    1030\n",
       "Male      2715\n",
       "Name: salaried, dtype: int64"
      ]
     },
     "execution_count": 90,
     "metadata": {},
     "output_type": "execute_result"
    }
   ],
   "source": [
    "pd.crosstab(df['gender'],df['occupation'])['salaried']"
   ]
  },
  {
   "cell_type": "code",
   "execution_count": 91,
   "metadata": {},
   "outputs": [
    {
     "data": {
      "text/plain": [
       "0.17044384456023604"
      ]
     },
     "execution_count": 91,
     "metadata": {},
     "output_type": "execute_result"
    }
   ],
   "source": [
    "pd.crosstab(df['gender'],df['occupation'])['salaried']['Male']/len(df)"
   ]
  },
  {
   "cell_type": "code",
   "execution_count": 93,
   "metadata": {},
   "outputs": [
    {
     "data": {
      "text/html": [
       "<div>\n",
       "<style scoped>\n",
       "    .dataframe tbody tr th:only-of-type {\n",
       "        vertical-align: middle;\n",
       "    }\n",
       "\n",
       "    .dataframe tbody tr th {\n",
       "        vertical-align: top;\n",
       "    }\n",
       "\n",
       "    .dataframe thead th {\n",
       "        text-align: right;\n",
       "    }\n",
       "</style>\n",
       "<table border=\"1\" class=\"dataframe\">\n",
       "  <thead>\n",
       "    <tr style=\"text-align: right;\">\n",
       "      <th>occupation</th>\n",
       "      <th>company</th>\n",
       "      <th>retired</th>\n",
       "      <th>salaried</th>\n",
       "      <th>self_employed</th>\n",
       "      <th>student</th>\n",
       "    </tr>\n",
       "    <tr>\n",
       "      <th>gender</th>\n",
       "      <th></th>\n",
       "      <th></th>\n",
       "      <th></th>\n",
       "      <th></th>\n",
       "      <th></th>\n",
       "    </tr>\n",
       "  </thead>\n",
       "  <tbody>\n",
       "    <tr>\n",
       "      <th>Female</th>\n",
       "      <td>3</td>\n",
       "      <td>220</td>\n",
       "      <td>1030</td>\n",
       "      <td>4518</td>\n",
       "      <td>563</td>\n",
       "    </tr>\n",
       "    <tr>\n",
       "      <th>Male</th>\n",
       "      <td>20</td>\n",
       "      <td>925</td>\n",
       "      <td>2715</td>\n",
       "      <td>5342</td>\n",
       "      <td>593</td>\n",
       "    </tr>\n",
       "  </tbody>\n",
       "</table>\n",
       "</div>"
      ],
      "text/plain": [
       "occupation  company  retired  salaried  self_employed  student\n",
       "gender                                                        \n",
       "Female            3      220      1030           4518      563\n",
       "Male             20      925      2715           5342      593"
      ]
     },
     "execution_count": 93,
     "metadata": {},
     "output_type": "execute_result"
    }
   ],
   "source": [
    "pd.crosstab(df['gender'],df['occupation'])"
   ]
  },
  {
   "cell_type": "code",
   "execution_count": 94,
   "metadata": {},
   "outputs": [
    {
     "data": {
      "text/plain": [
       "2715"
      ]
     },
     "execution_count": 94,
     "metadata": {},
     "output_type": "execute_result"
    }
   ],
   "source": [
    "pd.crosstab(df['gender'],df['occupation']).loc['Male', 'salaried']"
   ]
  },
  {
   "cell_type": "code",
   "execution_count": 95,
   "metadata": {},
   "outputs": [
    {
     "data": {
      "text/plain": [
       "0.17044384456023604"
      ]
     },
     "execution_count": 95,
     "metadata": {},
     "output_type": "execute_result"
    }
   ],
   "source": [
    "pd.crosstab(df['gender'],df['occupation']).loc['Male', 'salaried'] / len(df)"
   ]
  },
  {
   "cell_type": "code",
   "execution_count": null,
   "metadata": {},
   "outputs": [],
   "source": []
  },
  {
   "cell_type": "code",
   "execution_count": 97,
   "metadata": {},
   "outputs": [
    {
     "data": {
      "text/html": [
       "<div>\n",
       "<style scoped>\n",
       "    .dataframe tbody tr th:only-of-type {\n",
       "        vertical-align: middle;\n",
       "    }\n",
       "\n",
       "    .dataframe tbody tr th {\n",
       "        vertical-align: top;\n",
       "    }\n",
       "\n",
       "    .dataframe thead th {\n",
       "        text-align: right;\n",
       "    }\n",
       "</style>\n",
       "<table border=\"1\" class=\"dataframe\">\n",
       "  <thead>\n",
       "    <tr style=\"text-align: right;\">\n",
       "      <th>occupation</th>\n",
       "      <th>company</th>\n",
       "      <th>retired</th>\n",
       "      <th>salaried</th>\n",
       "      <th>self_employed</th>\n",
       "      <th>student</th>\n",
       "    </tr>\n",
       "    <tr>\n",
       "      <th>churn</th>\n",
       "      <th></th>\n",
       "      <th></th>\n",
       "      <th></th>\n",
       "      <th></th>\n",
       "      <th></th>\n",
       "    </tr>\n",
       "  </thead>\n",
       "  <tbody>\n",
       "    <tr>\n",
       "      <th>0.0</th>\n",
       "      <td>22</td>\n",
       "      <td>967</td>\n",
       "      <td>3081</td>\n",
       "      <td>7905</td>\n",
       "      <td>967</td>\n",
       "    </tr>\n",
       "    <tr>\n",
       "      <th>1.0</th>\n",
       "      <td>1</td>\n",
       "      <td>178</td>\n",
       "      <td>664</td>\n",
       "      <td>1955</td>\n",
       "      <td>189</td>\n",
       "    </tr>\n",
       "  </tbody>\n",
       "</table>\n",
       "</div>"
      ],
      "text/plain": [
       "occupation  company  retired  salaried  self_employed  student\n",
       "churn                                                         \n",
       "0.0              22      967      3081           7905      967\n",
       "1.0               1      178       664           1955      189"
      ]
     },
     "execution_count": 97,
     "metadata": {},
     "output_type": "execute_result"
    }
   ],
   "source": [
    "pd.crosstab(df['churn'],df['occupation'])"
   ]
  },
  {
   "cell_type": "code",
   "execution_count": 100,
   "metadata": {},
   "outputs": [
    {
     "data": {
      "text/plain": [
       "0.12273212379935966"
      ]
     },
     "execution_count": 100,
     "metadata": {},
     "output_type": "execute_result"
    }
   ],
   "source": [
    "# P(churn  and self-employed) = ???\\\n",
    "sum((df['churn']== 1)&(df['occupation']=='self_employed'))/len(df)"
   ]
  }
 ],
 "metadata": {
  "colab": {
   "collapsed_sections": [],
   "name": "3. Variable Identification.ipynb",
   "version": ""
  },
  "kernelspec": {
   "display_name": "Python 3 (ipykernel)",
   "language": "python",
   "name": "python3"
  },
  "language_info": {
   "codemirror_mode": {
    "name": "ipython",
    "version": 3
   },
   "file_extension": ".py",
   "mimetype": "text/x-python",
   "name": "python",
   "nbconvert_exporter": "python",
   "pygments_lexer": "ipython3",
   "version": "3.10.9"
  }
 },
 "nbformat": 4,
 "nbformat_minor": 1
}
